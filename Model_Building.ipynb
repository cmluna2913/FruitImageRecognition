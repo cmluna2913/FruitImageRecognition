{
 "cells": [
  {
   "cell_type": "markdown",
   "metadata": {},
   "source": [
    "# Importing Necessary Packages"
   ]
  },
  {
   "cell_type": "code",
   "execution_count": 28,
   "metadata": {},
   "outputs": [],
   "source": [
    "# Importing all the functions I made\n",
    "from data_creation import data_creation, pickle_me, get_pickle\n",
    "\n",
    "# Model Building\n",
    "import pandas as pd\n",
    "import numpy as np\n",
    "# Neural Network Building\n",
    "from sklearn.model_selection import train_test_split\n",
    "from keras.models import Sequential\n",
    "from keras import regularizers\n",
    "from keras.layers import Dense, Flatten, Dropout, Conv1D, Conv2D\n",
    "\n",
    "# Classification Metrics\n",
    "from sklearn.metrics import confusion_matrix\n",
    "\n",
    "# Visualization\n",
    "import seaborn as sns\n",
    "import matplotlib.pyplot as plt"
   ]
  },
  {
   "cell_type": "markdown",
   "metadata": {},
   "source": [
    "# Data Creation"
   ]
  },
  {
   "cell_type": "markdown",
   "metadata": {},
   "source": [
    "#### I only need to run this once to create my data. It will pickle my data for future reference.\n",
    "I will only run the categories object since I call on it later in the notebook."
   ]
  },
  {
   "cell_type": "code",
   "execution_count": 30,
   "metadata": {},
   "outputs": [],
   "source": [
    "# Directory where all the images are stored.\n",
    "#data_dir = 'C://Users/Cristian/Documents/flatiron/Capstone/Fruit'\n",
    "\n",
    "# Categories of Fruit with the correct labels.\n",
    "categories = ['Apple', 'Banana', 'Carambola', 'Guava', 'Kiwi', 'Mango',\n",
    "              'Muskmelon', 'Orange', 'Peach', 'Pear', 'Persimmon', 'Pitaya',\n",
    "              'Plum', 'Pomegranate', 'Tomatoes']"
   ]
  },
  {
   "cell_type": "markdown",
   "metadata": {},
   "source": [
    "##### Creating Grayscale data and pickling it"
   ]
  },
  {
   "cell_type": "code",
   "execution_count": 31,
   "metadata": {},
   "outputs": [],
   "source": [
    "#X_gray, y_gray = data_creation(50, 0, categories, data_dir)\n",
    "#pickle_me(X_gray,y_gray, 'X_grayscale', 'y_grayscale')"
   ]
  },
  {
   "cell_type": "markdown",
   "metadata": {},
   "source": [
    "##### Creating Color data and pickling it"
   ]
  },
  {
   "cell_type": "code",
   "execution_count": 32,
   "metadata": {},
   "outputs": [],
   "source": [
    "#X_color, y_color = data_creation(50, 1, categories, data_dir)\n",
    "#pickle_me(X_color, y_color,'X_color', 'y_color')"
   ]
  },
  {
   "cell_type": "markdown",
   "metadata": {},
   "source": [
    "##### Getting our pickled data for grayscale images and color images"
   ]
  },
  {
   "cell_type": "code",
   "execution_count": 6,
   "metadata": {},
   "outputs": [],
   "source": [
    "X_grayscale, y_grayscale = get_pickle('X_grayscale.pickle', 'y_grayscale.pickle')"
   ]
  },
  {
   "cell_type": "code",
   "execution_count": 7,
   "metadata": {},
   "outputs": [],
   "source": [
    "X_rgb, y_rgb = get_pickle('X_color.pickle', 'y_color.pickle')"
   ]
  },
  {
   "cell_type": "markdown",
   "metadata": {},
   "source": [
    "# Data Manipulation"
   ]
  },
  {
   "cell_type": "markdown",
   "metadata": {},
   "source": [
    "#### Creating a train, test split for cross-validation.\n",
    "'gs' will be for grayscale images, 'rgb' will be for colore images"
   ]
  },
  {
   "cell_type": "code",
   "execution_count": 8,
   "metadata": {},
   "outputs": [],
   "source": [
    "X_gs_train, X_gs_test, y_gs_train, y_gs_test = train_test_split(X_grayscale,\n",
    "                                                                y_grayscale, \n",
    "                                                                test_size=.2,\n",
    "                                                                random_state=42)"
   ]
  },
  {
   "cell_type": "code",
   "execution_count": 9,
   "metadata": {},
   "outputs": [],
   "source": [
    "X_rgb_train, X_rgb_test, y_rgb_train, y_rgb_test = train_test_split(X_rgb,\n",
    "                                                                    y_rgb, \n",
    "                                                                    test_size=.2,\n",
    "                                                                    random_state=42)"
   ]
  },
  {
   "cell_type": "markdown",
   "metadata": {},
   "source": [
    "#### Scaling our data and reshaping so they are the correct input for our models."
   ]
  },
  {
   "cell_type": "code",
   "execution_count": 10,
   "metadata": {},
   "outputs": [],
   "source": [
    "X_gs_train_sc = X_gs_train/255.0\n",
    "X_gs_test_sc = X_gs_test/255.0\n",
    "\n",
    "X_gs_train_reshape = X_gs_train_sc.reshape((X_gs_train.shape[0],50,50,))\n",
    "X_gs_test_reshape = X_gs_test_sc.reshape((X_gs_test.shape[0],50,50,))"
   ]
  },
  {
   "cell_type": "code",
   "execution_count": 11,
   "metadata": {},
   "outputs": [],
   "source": [
    "X_rgb_train_sc = X_rgb_train/255.0\n",
    "X_rgb_test_sc = X_rgb_test/255.0\n",
    "\n",
    "X_rgb_train_reshape = X_rgb_train_sc.reshape((X_rgb_train.shape[0],50,50,3))\n",
    "X_rgb_test_reshape = X_rgb_test_sc.reshape((X_rgb_test.shape[0],50,50,3))"
   ]
  },
  {
   "cell_type": "markdown",
   "metadata": {},
   "source": [
    "#### For our models we need a target input of (15,) instead of (1,), which is the number of fruit labels we have"
   ]
  },
  {
   "cell_type": "code",
   "execution_count": 18,
   "metadata": {},
   "outputs": [],
   "source": [
    "y_gs_train_dummies = pd.get_dummies(y_gs_train)\n",
    "y_gs_test_dummies = pd.get_dummies(y_gs_test)"
   ]
  },
  {
   "cell_type": "code",
   "execution_count": 19,
   "metadata": {},
   "outputs": [],
   "source": [
    "y_rgb_train_dummies = np.array(pd.get_dummies(y_rgb_train))\n",
    "y_rgb_test_dummies = np.array(pd.get_dummies(y_rgb_test))"
   ]
  },
  {
   "cell_type": "markdown",
   "metadata": {},
   "source": [
    "# Model Building\n",
    "As a way to better visualize how models are doing compared to one another, I will create the neural networks, compile them, and fit our data. Then, I will have them predict classes and put our classification metrics into a dataframe."
   ]
  },
  {
   "cell_type": "markdown",
   "metadata": {},
   "source": [
    "### Model 1\n",
    "First Simple Model"
   ]
  },
  {
   "cell_type": "code",
   "execution_count": 27,
   "metadata": {},
   "outputs": [],
   "source": [
    "model_1 = fsm = Sequential([Dense(15, activation='softmax')])\n",
    "model_1.compile(optimizer='adagrad', loss='categorical_crossentropy', metrics=['accuracy'])\n",
    "#model_1_results = model_1.fit(X_gs_train_reshape, y_gs_train_dummies, epochs=5, validation_data =(X_gs_test_reshape, y_gs_test_dummies))"
   ]
  },
  {
   "cell_type": "code",
   "execution_count": 24,
   "metadata": {},
   "outputs": [],
   "source": [
    "fsm = Sequential([Conv1D(150, kernel_size=(1), activation='relu', input_shape=(50,50)),\n",
    "                  Flatten(input_shape=(50,50)),\n",
    "                  Dense(64, activation='sigmoid'),\n",
    "                  Dense(15, activation='softmax')])"
   ]
  },
  {
   "cell_type": "code",
   "execution_count": 25,
   "metadata": {},
   "outputs": [],
   "source": [
    "fsm.compile(optimizer='adagrad', loss='categorical_crossentropy', metrics=['accuracy'])"
   ]
  },
  {
   "cell_type": "code",
   "execution_count": 26,
   "metadata": {},
   "outputs": [
    {
     "name": "stdout",
     "output_type": "stream",
     "text": [
      "WARNING:tensorflow:From C:\\Users\\Cristian\\.conda\\envs\\learn-env\\lib\\site-packages\\keras\\backend\\tensorflow_backend.py:422: The name tf.global_variables is deprecated. Please use tf.compat.v1.global_variables instead.\n",
      "\n",
      "Train on 35524 samples, validate on 8882 samples\n",
      "Epoch 1/5\n",
      "35524/35524 [==============================] - 12s 351us/step - loss: 1.3346 - accuracy: 0.6502 - val_loss: 1.0426 - val_accuracy: 0.7386\n",
      "Epoch 2/5\n",
      "35524/35524 [==============================] - 10s 291us/step - loss: 0.8320 - accuracy: 0.7795 - val_loss: 0.8654 - val_accuracy: 0.7642\n",
      "Epoch 3/5\n",
      "35524/35524 [==============================] - 10s 291us/step - loss: 0.7304 - accuracy: 0.7974 - val_loss: 0.7488 - val_accuracy: 0.7891\n",
      "Epoch 4/5\n",
      "35524/35524 [==============================] - 10s 285us/step - loss: 0.6757 - accuracy: 0.8070 - val_loss: 0.7218 - val_accuracy: 0.7916\n",
      "Epoch 5/5\n",
      "35524/35524 [==============================] - 11s 302us/step - loss: 0.6389 - accuracy: 0.8147 - val_loss: 0.7426 - val_accuracy: 0.7879\n"
     ]
    }
   ],
   "source": [
    "fsm_results = fsm.fit(X_gs_train_reshape, y_gs_train_dummies,epochs=5, validation_data = (X_gs_test_reshape, y_gs_test_dummies))"
   ]
  },
  {
   "cell_type": "markdown",
   "metadata": {},
   "source": [
    "### Model 2"
   ]
  },
  {
   "cell_type": "markdown",
   "metadata": {},
   "source": [
    "#### Model 4"
   ]
  },
  {
   "cell_type": "code",
   "execution_count": 35,
   "metadata": {},
   "outputs": [],
   "source": [
    "model_4 = Sequential([Conv2D(10, kernel_size=(1), activation='relu'),\n",
    "                  Flatten(input_shape=(50,50)),\n",
    "                  Dropout(0.2),\n",
    "                  Dense(64, activation='sigmoid', bias_regularizer=regularizers.l1(0.02)),\n",
    "                  Dense(15, activation='softmax')])"
   ]
  },
  {
   "cell_type": "code",
   "execution_count": 36,
   "metadata": {},
   "outputs": [],
   "source": [
    "model_4.compile(optimizer='adagrad', loss='categorical_crossentropy', metrics=['accuracy'])"
   ]
  },
  {
   "cell_type": "code",
   "execution_count": 39,
   "metadata": {},
   "outputs": [],
   "source": [
    "import numpy as np"
   ]
  },
  {
   "cell_type": "code",
   "execution_count": 41,
   "metadata": {},
   "outputs": [
    {
     "name": "stdout",
     "output_type": "stream",
     "text": [
      "Train on 35524 samples, validate on 8882 samples\n",
      "Epoch 1/5\n",
      "35524/35524 [==============================] - 42s 1ms/step - loss: 0.8773 - accuracy: 0.7787 - val_loss: 0.6139 - val_accuracy: 0.8366\n",
      "Epoch 2/5\n",
      "35524/35524 [==============================] - 42s 1ms/step - loss: 0.4197 - accuracy: 0.8916 - val_loss: 0.4089 - val_accuracy: 0.8864\n",
      "Epoch 3/5\n",
      "35524/35524 [==============================] - 41s 1ms/step - loss: 0.3315 - accuracy: 0.9095 - val_loss: 0.3664 - val_accuracy: 0.8909\n",
      "Epoch 4/5\n",
      "35524/35524 [==============================] - 41s 1ms/step - loss: 0.2822 - accuracy: 0.9237 - val_loss: 0.3300 - val_accuracy: 0.8996\n",
      "Epoch 5/5\n",
      "35524/35524 [==============================] - 40s 1ms/step - loss: 0.2499 - accuracy: 0.9326 - val_loss: 0.3027 - val_accuracy: 0.9081\n"
     ]
    }
   ],
   "source": [
    "model_4_results = model_4.fit(X_rgb_train_reshape, y_rgb_train_dummies,epochs=5, validation_data = (X_rgb_test_reshape, y_rgb_test_dummies))"
   ]
  },
  {
   "cell_type": "code",
   "execution_count": 49,
   "metadata": {},
   "outputs": [],
   "source": [
    "fsm_preds = fsm.predict_classes(X_gs_test_reshape)\n",
    "cm_fsm = confusion_matrix(y_gs_test, fsm_preds, normalize='pred')"
   ]
  },
  {
   "cell_type": "code",
   "execution_count": 50,
   "metadata": {},
   "outputs": [
    {
     "name": "stdout",
     "output_type": "stream",
     "text": [
      "Apple: 0.3918385256691531\n",
      "Banana: 0.8238866396761133\n",
      "Carambola: 0.9833333333333333\n",
      "Guava: 0.9901960784313726\n",
      "Kiwi: 0.9986559139784946\n",
      "Mango: 0.9150805270863837\n",
      "Muskmelon: 0.9376854599406528\n",
      "Orange: 0.9317647058823529\n",
      "Peach: 0.9831730769230769\n",
      "Pear: 0.9576837416481069\n",
      "Persimmon: 0.9851632047477745\n",
      "Pitaya: 0.9544419134396356\n",
      "Plum: 0.991578947368421\n",
      "Pomegranate: 0.748046875\n",
      "Tomatoes: 0.781578947368421\n"
     ]
    }
   ],
   "source": [
    "for i in range(15):\n",
    "    print(categories[i]+':', cm_fsm[i][i])"
   ]
  },
  {
   "cell_type": "code",
   "execution_count": 44,
   "metadata": {},
   "outputs": [],
   "source": [
    "model_4_preds = model_4.predict_classes(X_rgb_test_reshape)\n",
    "cm_model_4 = confusion_matrix(y_rgb_test, model_4_preds, normalize='pred')"
   ]
  },
  {
   "cell_type": "code",
   "execution_count": 45,
   "metadata": {},
   "outputs": [
    {
     "name": "stdout",
     "output_type": "stream",
     "text": [
      "Apple: 0.8051575931232091\n",
      "Banana: 0.8761220825852782\n",
      "Carambola: 0.9084507042253521\n",
      "Guava: 0.9294871794871795\n",
      "Kiwi: 0.9334112149532711\n",
      "Mango: 0.864951768488746\n",
      "Muskmelon: 0.8781609195402299\n",
      "Orange: 0.9404186795491143\n",
      "Peach: 0.9552572706935123\n",
      "Pear: 0.9429590017825312\n",
      "Persimmon: 0.9622166246851386\n",
      "Pitaya: 0.9393939393939394\n",
      "Plum: 0.9933628318584071\n",
      "Pomegranate: 0.9058823529411765\n",
      "Tomatoes: 0.92\n"
     ]
    }
   ],
   "source": [
    "for i in range(15):\n",
    "    print(categories[i]+':', cm_model_4[i][i])"
   ]
  },
  {
   "cell_type": "code",
   "execution_count": 51,
   "metadata": {},
   "outputs": [],
   "source": [
    "model_5 = Sequential([Conv2D(10, kernel_size=(1), activation='relu'),\n",
    "                  Flatten(input_shape=(50,50)),\n",
    "                  Dropout(0.3),\n",
    "                  Dense(64, activation='sigmoid', bias_regularizer=regularizers.l1(0.02)),\n",
    "                  Dense(15, activation='softmax')])\n",
    "\n",
    "model_5.compile(optimizer='adagrad', loss='categorical_crossentropy', metrics=['accuracy'])"
   ]
  },
  {
   "cell_type": "code",
   "execution_count": 52,
   "metadata": {},
   "outputs": [
    {
     "name": "stdout",
     "output_type": "stream",
     "text": [
      "Train on 35524 samples, validate on 8882 samples\n",
      "Epoch 1/5\n",
      "35524/35524 [==============================] - 46s 1ms/step - loss: 1.0589 - accuracy: 0.7320 - val_loss: 0.6161 - val_accuracy: 0.8452\n",
      "Epoch 2/5\n",
      "35524/35524 [==============================] - 41s 1ms/step - loss: 0.4937 - accuracy: 0.8730 - val_loss: 0.4989 - val_accuracy: 0.8588\n",
      "Epoch 3/5\n",
      "35524/35524 [==============================] - 41s 1ms/step - loss: 0.3897 - accuracy: 0.8951 - val_loss: 0.4317 - val_accuracy: 0.8738\n",
      "Epoch 4/5\n",
      "35524/35524 [==============================] - 42s 1ms/step - loss: 0.3365 - accuracy: 0.9062 - val_loss: 0.4212 - val_accuracy: 0.8773\n",
      "Epoch 5/5\n",
      "35524/35524 [==============================] - 41s 1ms/step - loss: 0.2986 - accuracy: 0.9168 - val_loss: 0.3613 - val_accuracy: 0.8898\n"
     ]
    }
   ],
   "source": [
    "model_5_results = model_5.fit(X_rgb_train_reshape, y_rgb_train_dummies,epochs=5, validation_data = (X_rgb_test_reshape, y_rgb_test_dummies))"
   ]
  },
  {
   "cell_type": "code",
   "execution_count": 55,
   "metadata": {},
   "outputs": [
    {
     "data": {
      "text/plain": [
       "8882"
      ]
     },
     "execution_count": 55,
     "metadata": {},
     "output_type": "execute_result"
    }
   ],
   "source": [
    "len(model_4_preds)"
   ]
  },
  {
   "cell_type": "code",
   "execution_count": 56,
   "metadata": {},
   "outputs": [
    {
     "data": {
      "text/plain": [
       "8882"
      ]
     },
     "execution_count": 56,
     "metadata": {},
     "output_type": "execute_result"
    }
   ],
   "source": [
    "len(y_rgb_test)"
   ]
  },
  {
   "cell_type": "code",
   "execution_count": 64,
   "metadata": {},
   "outputs": [],
   "source": [
    "pred_results_actual = []\n",
    "pred_results_pred = []\n",
    "for i in range(len(y_rgb_test)):\n",
    "    if y_rgb_test[i]!=model_4_preds[i]:\n",
    "        pred_results_actual.append(categories[y_rgb_test[i]])\n",
    "        pred_results_pred.append(categories[model_4_preds[i]])"
   ]
  },
  {
   "cell_type": "code",
   "execution_count": 67,
   "metadata": {},
   "outputs": [],
   "source": [
    "pred_results = list(zip(pred_results_actual, pred_results_pred))"
   ]
  },
  {
   "cell_type": "code",
   "execution_count": 73,
   "metadata": {},
   "outputs": [],
   "source": [
    "pred_results_df = pd.DataFrame(pred_results)"
   ]
  },
  {
   "cell_type": "code",
   "execution_count": 74,
   "metadata": {},
   "outputs": [
    {
     "data": {
      "text/html": [
       "<div>\n",
       "<style scoped>\n",
       "    .dataframe tbody tr th:only-of-type {\n",
       "        vertical-align: middle;\n",
       "    }\n",
       "\n",
       "    .dataframe tbody tr th {\n",
       "        vertical-align: top;\n",
       "    }\n",
       "\n",
       "    .dataframe thead th {\n",
       "        text-align: right;\n",
       "    }\n",
       "</style>\n",
       "<table border=\"1\" class=\"dataframe\">\n",
       "  <thead>\n",
       "    <tr style=\"text-align: right;\">\n",
       "      <th></th>\n",
       "      <th>0</th>\n",
       "      <th>1</th>\n",
       "    </tr>\n",
       "  </thead>\n",
       "  <tbody>\n",
       "    <tr>\n",
       "      <td>0</td>\n",
       "      <td>Apple</td>\n",
       "      <td>Pomegranate</td>\n",
       "    </tr>\n",
       "    <tr>\n",
       "      <td>1</td>\n",
       "      <td>Apple</td>\n",
       "      <td>Pear</td>\n",
       "    </tr>\n",
       "    <tr>\n",
       "      <td>2</td>\n",
       "      <td>Mango</td>\n",
       "      <td>Orange</td>\n",
       "    </tr>\n",
       "    <tr>\n",
       "      <td>3</td>\n",
       "      <td>Kiwi</td>\n",
       "      <td>Mango</td>\n",
       "    </tr>\n",
       "    <tr>\n",
       "      <td>4</td>\n",
       "      <td>Pear</td>\n",
       "      <td>Apple</td>\n",
       "    </tr>\n",
       "    <tr>\n",
       "      <td>...</td>\n",
       "      <td>...</td>\n",
       "      <td>...</td>\n",
       "    </tr>\n",
       "    <tr>\n",
       "      <td>811</td>\n",
       "      <td>Guava</td>\n",
       "      <td>Carambola</td>\n",
       "    </tr>\n",
       "    <tr>\n",
       "      <td>812</td>\n",
       "      <td>Apple</td>\n",
       "      <td>Muskmelon</td>\n",
       "    </tr>\n",
       "    <tr>\n",
       "      <td>813</td>\n",
       "      <td>Kiwi</td>\n",
       "      <td>Apple</td>\n",
       "    </tr>\n",
       "    <tr>\n",
       "      <td>814</td>\n",
       "      <td>Kiwi</td>\n",
       "      <td>Apple</td>\n",
       "    </tr>\n",
       "    <tr>\n",
       "      <td>815</td>\n",
       "      <td>Pear</td>\n",
       "      <td>Pomegranate</td>\n",
       "    </tr>\n",
       "  </tbody>\n",
       "</table>\n",
       "<p>816 rows × 2 columns</p>\n",
       "</div>"
      ],
      "text/plain": [
       "         0            1\n",
       "0    Apple  Pomegranate\n",
       "1    Apple         Pear\n",
       "2    Mango       Orange\n",
       "3     Kiwi        Mango\n",
       "4     Pear        Apple\n",
       "..     ...          ...\n",
       "811  Guava    Carambola\n",
       "812  Apple    Muskmelon\n",
       "813   Kiwi        Apple\n",
       "814   Kiwi        Apple\n",
       "815   Pear  Pomegranate\n",
       "\n",
       "[816 rows x 2 columns]"
      ]
     },
     "execution_count": 74,
     "metadata": {},
     "output_type": "execute_result"
    }
   ],
   "source": [
    "pred_results_df"
   ]
  },
  {
   "cell_type": "code",
   "execution_count": 77,
   "metadata": {},
   "outputs": [],
   "source": [
    "pred_results_df.columns=['Actual', 'Predicted']"
   ]
  },
  {
   "cell_type": "code",
   "execution_count": 80,
   "metadata": {},
   "outputs": [
    {
     "data": {
      "text/plain": [
       "Apple          0.250000\n",
       "Mango          0.154412\n",
       "Banana         0.084559\n",
       "Kiwi           0.069853\n",
       "Guava          0.067402\n",
       "Muskmelon      0.064951\n",
       "Pomegranate    0.049020\n",
       "Carambola      0.047794\n",
       "Orange         0.045343\n",
       "Tomatoes       0.044118\n",
       "Pear           0.039216\n",
       "Pitaya         0.036765\n",
       "Peach          0.024510\n",
       "Persimmon      0.018382\n",
       "Plum           0.003676\n",
       "Name: Predicted, dtype: float64"
      ]
     },
     "execution_count": 80,
     "metadata": {},
     "output_type": "execute_result"
    }
   ],
   "source": [
    "pred_results_df.Predicted.value_counts(normalize=True)"
   ]
  },
  {
   "cell_type": "code",
   "execution_count": 103,
   "metadata": {},
   "outputs": [
    {
     "data": {
      "text/plain": [
       "Apple          178\n",
       "Banana         105\n",
       "Pear            91\n",
       "Peach           78\n",
       "Guava           74\n",
       "Pomegranate     49\n",
       "Mango           48\n",
       "Persimmon       34\n",
       "Muskmelon       32\n",
       "Pitaya          31\n",
       "Kiwi            29\n",
       "Orange          25\n",
       "Carambola       24\n",
       "Tomatoes        17\n",
       "Plum             1\n",
       "Name: Actual, dtype: int64"
      ]
     },
     "execution_count": 103,
     "metadata": {},
     "output_type": "execute_result"
    }
   ],
   "source": [
    "pred_results_df.Actual.value_counts()"
   ]
  },
  {
   "cell_type": "code",
   "execution_count": 104,
   "metadata": {},
   "outputs": [
    {
     "data": {
      "text/html": [
       "<div>\n",
       "<style scoped>\n",
       "    .dataframe tbody tr th:only-of-type {\n",
       "        vertical-align: middle;\n",
       "    }\n",
       "\n",
       "    .dataframe tbody tr th {\n",
       "        vertical-align: top;\n",
       "    }\n",
       "\n",
       "    .dataframe thead th {\n",
       "        text-align: right;\n",
       "    }\n",
       "</style>\n",
       "<table border=\"1\" class=\"dataframe\">\n",
       "  <thead>\n",
       "    <tr style=\"text-align: right;\">\n",
       "      <th></th>\n",
       "      <th>Actual</th>\n",
       "      <th>Predicted</th>\n",
       "    </tr>\n",
       "  </thead>\n",
       "  <tbody>\n",
       "    <tr>\n",
       "      <td>57</td>\n",
       "      <td>Plum</td>\n",
       "      <td>Muskmelon</td>\n",
       "    </tr>\n",
       "  </tbody>\n",
       "</table>\n",
       "</div>"
      ],
      "text/plain": [
       "   Actual  Predicted\n",
       "57   Plum  Muskmelon"
      ]
     },
     "execution_count": 104,
     "metadata": {},
     "output_type": "execute_result"
    }
   ],
   "source": [
    "pred_results_df[pred_results_df['Actual']=='Plum']"
   ]
  },
  {
   "cell_type": "code",
   "execution_count": 86,
   "metadata": {},
   "outputs": [],
   "source": [
    "results = {}\n",
    "for category in categories:\n",
    "    results[category] = dict(pred_results_df[pred_results_df['Actual']==category].Predicted.value_counts(normalize=True))"
   ]
  },
  {
   "cell_type": "code",
   "execution_count": 89,
   "metadata": {},
   "outputs": [
    {
     "data": {
      "text/plain": [
       "{'Apple': {'Muskmelon': 0.21910112359550563,\n",
       "  'Tomatoes': 0.17415730337078653,\n",
       "  'Kiwi': 0.10674157303370786,\n",
       "  'Pear': 0.10112359550561797,\n",
       "  'Pitaya': 0.10112359550561797,\n",
       "  'Guava': 0.07303370786516854,\n",
       "  'Peach': 0.07303370786516854,\n",
       "  'Pomegranate': 0.05056179775280899,\n",
       "  'Mango': 0.03932584269662921,\n",
       "  'Carambola': 0.028089887640449437,\n",
       "  'Banana': 0.011235955056179775,\n",
       "  'Orange': 0.011235955056179775,\n",
       "  'Persimmon': 0.011235955056179775},\n",
       " 'Banana': {'Mango': 0.47619047619047616,\n",
       "  'Pomegranate': 0.13333333333333333,\n",
       "  'Carambola': 0.12380952380952381,\n",
       "  'Apple': 0.09523809523809523,\n",
       "  'Kiwi': 0.05714285714285714,\n",
       "  'Persimmon': 0.0380952380952381,\n",
       "  'Guava': 0.02857142857142857,\n",
       "  'Pear': 0.02857142857142857,\n",
       "  'Orange': 0.009523809523809525,\n",
       "  'Muskmelon': 0.009523809523809525},\n",
       " 'Carambola': {'Guava': 0.4583333333333333,\n",
       "  'Banana': 0.375,\n",
       "  'Pomegranate': 0.125,\n",
       "  'Apple': 0.041666666666666664},\n",
       " 'Guava': {'Mango': 0.2702702702702703,\n",
       "  'Banana': 0.25675675675675674,\n",
       "  'Carambola': 0.17567567567567569,\n",
       "  'Kiwi': 0.13513513513513514,\n",
       "  'Pear': 0.06756756756756757,\n",
       "  'Apple': 0.04054054054054054,\n",
       "  'Pomegranate': 0.02702702702702703,\n",
       "  'Muskmelon': 0.02702702702702703},\n",
       " 'Kiwi': {'Apple': 0.6206896551724138,\n",
       "  'Mango': 0.1724137931034483,\n",
       "  'Pear': 0.06896551724137931,\n",
       "  'Carambola': 0.034482758620689655,\n",
       "  'Banana': 0.034482758620689655,\n",
       "  'Pomegranate': 0.034482758620689655,\n",
       "  'Muskmelon': 0.034482758620689655},\n",
       " 'Mango': {'Banana': 0.375,\n",
       "  'Orange': 0.16666666666666666,\n",
       "  'Pomegranate': 0.14583333333333334,\n",
       "  'Guava': 0.0625,\n",
       "  'Kiwi': 0.0625,\n",
       "  'Carambola': 0.0625,\n",
       "  'Apple': 0.0625,\n",
       "  'Pear': 0.020833333333333332,\n",
       "  'Persimmon': 0.020833333333333332,\n",
       "  'Muskmelon': 0.020833333333333332},\n",
       " 'Muskmelon': {'Apple': 0.65625,\n",
       "  'Guava': 0.21875,\n",
       "  'Pear': 0.09375,\n",
       "  'Pomegranate': 0.03125},\n",
       " 'Orange': {'Mango': 0.52, 'Persimmon': 0.24, 'Apple': 0.16, 'Tomatoes': 0.08},\n",
       " 'Peach': {'Apple': 0.7692307692307693,\n",
       "  'Pitaya': 0.1282051282051282,\n",
       "  'Kiwi': 0.07692307692307693,\n",
       "  'Tomatoes': 0.01282051282051282,\n",
       "  'Mango': 0.01282051282051282},\n",
       " 'Pear': {'Apple': 0.4065934065934066,\n",
       "  'Guava': 0.18681318681318682,\n",
       "  'Banana': 0.12087912087912088,\n",
       "  'Mango': 0.0989010989010989,\n",
       "  'Muskmelon': 0.07692307692307693,\n",
       "  'Kiwi': 0.03296703296703297,\n",
       "  'Plum': 0.03296703296703297,\n",
       "  'Pomegranate': 0.03296703296703297,\n",
       "  'Peach': 0.01098901098901099},\n",
       " 'Persimmon': {'Orange': 0.6176470588235294,\n",
       "  'Kiwi': 0.17647058823529413,\n",
       "  'Apple': 0.14705882352941177,\n",
       "  'Tomatoes': 0.058823529411764705},\n",
       " 'Pitaya': {'Apple': 0.9032258064516129,\n",
       "  'Peach': 0.06451612903225806,\n",
       "  'Kiwi': 0.03225806451612903},\n",
       " 'Plum': {'Muskmelon': 1.0},\n",
       " 'Pomegranate': {'Mango': 0.42857142857142855,\n",
       "  'Banana': 0.1836734693877551,\n",
       "  'Orange': 0.10204081632653061,\n",
       "  'Apple': 0.10204081632653061,\n",
       "  'Carambola': 0.08163265306122448,\n",
       "  'Kiwi': 0.04081632653061224,\n",
       "  'Guava': 0.02040816326530612,\n",
       "  'Persimmon': 0.02040816326530612,\n",
       "  'Muskmelon': 0.02040816326530612},\n",
       " 'Tomatoes': {'Apple': 0.5294117647058824,\n",
       "  'Peach': 0.23529411764705882,\n",
       "  'Pitaya': 0.11764705882352941,\n",
       "  'Persimmon': 0.058823529411764705,\n",
       "  'Kiwi': 0.058823529411764705}}"
      ]
     },
     "execution_count": 89,
     "metadata": {},
     "output_type": "execute_result"
    }
   ],
   "source": [
    "results"
   ]
  },
  {
   "cell_type": "code",
   "execution_count": 92,
   "metadata": {},
   "outputs": [],
   "source": [
    "wrong_predictions_df = pd.DataFrame(results)"
   ]
  },
  {
   "cell_type": "code",
   "execution_count": 93,
   "metadata": {},
   "outputs": [
    {
     "data": {
      "text/html": [
       "<div>\n",
       "<style scoped>\n",
       "    .dataframe tbody tr th:only-of-type {\n",
       "        vertical-align: middle;\n",
       "    }\n",
       "\n",
       "    .dataframe tbody tr th {\n",
       "        vertical-align: top;\n",
       "    }\n",
       "\n",
       "    .dataframe thead th {\n",
       "        text-align: right;\n",
       "    }\n",
       "</style>\n",
       "<table border=\"1\" class=\"dataframe\">\n",
       "  <thead>\n",
       "    <tr style=\"text-align: right;\">\n",
       "      <th></th>\n",
       "      <th>Apple</th>\n",
       "      <th>Banana</th>\n",
       "      <th>Carambola</th>\n",
       "      <th>Guava</th>\n",
       "      <th>Kiwi</th>\n",
       "      <th>Mango</th>\n",
       "      <th>Muskmelon</th>\n",
       "      <th>Orange</th>\n",
       "      <th>Peach</th>\n",
       "      <th>Pear</th>\n",
       "      <th>Persimmon</th>\n",
       "      <th>Pitaya</th>\n",
       "      <th>Plum</th>\n",
       "      <th>Pomegranate</th>\n",
       "      <th>Tomatoes</th>\n",
       "    </tr>\n",
       "  </thead>\n",
       "  <tbody>\n",
       "    <tr>\n",
       "      <td>Muskmelon</td>\n",
       "      <td>0.219101</td>\n",
       "      <td>0.009524</td>\n",
       "      <td>NaN</td>\n",
       "      <td>0.027027</td>\n",
       "      <td>0.034483</td>\n",
       "      <td>0.020833</td>\n",
       "      <td>NaN</td>\n",
       "      <td>NaN</td>\n",
       "      <td>NaN</td>\n",
       "      <td>0.076923</td>\n",
       "      <td>NaN</td>\n",
       "      <td>NaN</td>\n",
       "      <td>1.0</td>\n",
       "      <td>0.020408</td>\n",
       "      <td>NaN</td>\n",
       "    </tr>\n",
       "    <tr>\n",
       "      <td>Tomatoes</td>\n",
       "      <td>0.174157</td>\n",
       "      <td>NaN</td>\n",
       "      <td>NaN</td>\n",
       "      <td>NaN</td>\n",
       "      <td>NaN</td>\n",
       "      <td>NaN</td>\n",
       "      <td>NaN</td>\n",
       "      <td>0.08</td>\n",
       "      <td>0.012821</td>\n",
       "      <td>NaN</td>\n",
       "      <td>0.058824</td>\n",
       "      <td>NaN</td>\n",
       "      <td>NaN</td>\n",
       "      <td>NaN</td>\n",
       "      <td>NaN</td>\n",
       "    </tr>\n",
       "    <tr>\n",
       "      <td>Kiwi</td>\n",
       "      <td>0.106742</td>\n",
       "      <td>0.057143</td>\n",
       "      <td>NaN</td>\n",
       "      <td>0.135135</td>\n",
       "      <td>NaN</td>\n",
       "      <td>0.062500</td>\n",
       "      <td>NaN</td>\n",
       "      <td>NaN</td>\n",
       "      <td>0.076923</td>\n",
       "      <td>0.032967</td>\n",
       "      <td>0.176471</td>\n",
       "      <td>0.032258</td>\n",
       "      <td>NaN</td>\n",
       "      <td>0.040816</td>\n",
       "      <td>0.058824</td>\n",
       "    </tr>\n",
       "    <tr>\n",
       "      <td>Pear</td>\n",
       "      <td>0.101124</td>\n",
       "      <td>0.028571</td>\n",
       "      <td>NaN</td>\n",
       "      <td>0.067568</td>\n",
       "      <td>0.068966</td>\n",
       "      <td>0.020833</td>\n",
       "      <td>0.09375</td>\n",
       "      <td>NaN</td>\n",
       "      <td>NaN</td>\n",
       "      <td>NaN</td>\n",
       "      <td>NaN</td>\n",
       "      <td>NaN</td>\n",
       "      <td>NaN</td>\n",
       "      <td>NaN</td>\n",
       "      <td>NaN</td>\n",
       "    </tr>\n",
       "    <tr>\n",
       "      <td>Pitaya</td>\n",
       "      <td>0.101124</td>\n",
       "      <td>NaN</td>\n",
       "      <td>NaN</td>\n",
       "      <td>NaN</td>\n",
       "      <td>NaN</td>\n",
       "      <td>NaN</td>\n",
       "      <td>NaN</td>\n",
       "      <td>NaN</td>\n",
       "      <td>0.128205</td>\n",
       "      <td>NaN</td>\n",
       "      <td>NaN</td>\n",
       "      <td>NaN</td>\n",
       "      <td>NaN</td>\n",
       "      <td>NaN</td>\n",
       "      <td>0.117647</td>\n",
       "    </tr>\n",
       "    <tr>\n",
       "      <td>Guava</td>\n",
       "      <td>0.073034</td>\n",
       "      <td>0.028571</td>\n",
       "      <td>0.458333</td>\n",
       "      <td>NaN</td>\n",
       "      <td>NaN</td>\n",
       "      <td>0.062500</td>\n",
       "      <td>0.21875</td>\n",
       "      <td>NaN</td>\n",
       "      <td>NaN</td>\n",
       "      <td>0.186813</td>\n",
       "      <td>NaN</td>\n",
       "      <td>NaN</td>\n",
       "      <td>NaN</td>\n",
       "      <td>0.020408</td>\n",
       "      <td>NaN</td>\n",
       "    </tr>\n",
       "    <tr>\n",
       "      <td>Peach</td>\n",
       "      <td>0.073034</td>\n",
       "      <td>NaN</td>\n",
       "      <td>NaN</td>\n",
       "      <td>NaN</td>\n",
       "      <td>NaN</td>\n",
       "      <td>NaN</td>\n",
       "      <td>NaN</td>\n",
       "      <td>NaN</td>\n",
       "      <td>NaN</td>\n",
       "      <td>0.010989</td>\n",
       "      <td>NaN</td>\n",
       "      <td>0.064516</td>\n",
       "      <td>NaN</td>\n",
       "      <td>NaN</td>\n",
       "      <td>0.235294</td>\n",
       "    </tr>\n",
       "    <tr>\n",
       "      <td>Pomegranate</td>\n",
       "      <td>0.050562</td>\n",
       "      <td>0.133333</td>\n",
       "      <td>0.125000</td>\n",
       "      <td>0.027027</td>\n",
       "      <td>0.034483</td>\n",
       "      <td>0.145833</td>\n",
       "      <td>0.03125</td>\n",
       "      <td>NaN</td>\n",
       "      <td>NaN</td>\n",
       "      <td>0.032967</td>\n",
       "      <td>NaN</td>\n",
       "      <td>NaN</td>\n",
       "      <td>NaN</td>\n",
       "      <td>NaN</td>\n",
       "      <td>NaN</td>\n",
       "    </tr>\n",
       "    <tr>\n",
       "      <td>Mango</td>\n",
       "      <td>0.039326</td>\n",
       "      <td>0.476190</td>\n",
       "      <td>NaN</td>\n",
       "      <td>0.270270</td>\n",
       "      <td>0.172414</td>\n",
       "      <td>NaN</td>\n",
       "      <td>NaN</td>\n",
       "      <td>0.52</td>\n",
       "      <td>0.012821</td>\n",
       "      <td>0.098901</td>\n",
       "      <td>NaN</td>\n",
       "      <td>NaN</td>\n",
       "      <td>NaN</td>\n",
       "      <td>0.428571</td>\n",
       "      <td>NaN</td>\n",
       "    </tr>\n",
       "    <tr>\n",
       "      <td>Carambola</td>\n",
       "      <td>0.028090</td>\n",
       "      <td>0.123810</td>\n",
       "      <td>NaN</td>\n",
       "      <td>0.175676</td>\n",
       "      <td>0.034483</td>\n",
       "      <td>0.062500</td>\n",
       "      <td>NaN</td>\n",
       "      <td>NaN</td>\n",
       "      <td>NaN</td>\n",
       "      <td>NaN</td>\n",
       "      <td>NaN</td>\n",
       "      <td>NaN</td>\n",
       "      <td>NaN</td>\n",
       "      <td>0.081633</td>\n",
       "      <td>NaN</td>\n",
       "    </tr>\n",
       "    <tr>\n",
       "      <td>Banana</td>\n",
       "      <td>0.011236</td>\n",
       "      <td>NaN</td>\n",
       "      <td>0.375000</td>\n",
       "      <td>0.256757</td>\n",
       "      <td>0.034483</td>\n",
       "      <td>0.375000</td>\n",
       "      <td>NaN</td>\n",
       "      <td>NaN</td>\n",
       "      <td>NaN</td>\n",
       "      <td>0.120879</td>\n",
       "      <td>NaN</td>\n",
       "      <td>NaN</td>\n",
       "      <td>NaN</td>\n",
       "      <td>0.183673</td>\n",
       "      <td>NaN</td>\n",
       "    </tr>\n",
       "    <tr>\n",
       "      <td>Orange</td>\n",
       "      <td>0.011236</td>\n",
       "      <td>0.009524</td>\n",
       "      <td>NaN</td>\n",
       "      <td>NaN</td>\n",
       "      <td>NaN</td>\n",
       "      <td>0.166667</td>\n",
       "      <td>NaN</td>\n",
       "      <td>NaN</td>\n",
       "      <td>NaN</td>\n",
       "      <td>NaN</td>\n",
       "      <td>0.617647</td>\n",
       "      <td>NaN</td>\n",
       "      <td>NaN</td>\n",
       "      <td>0.102041</td>\n",
       "      <td>NaN</td>\n",
       "    </tr>\n",
       "    <tr>\n",
       "      <td>Persimmon</td>\n",
       "      <td>0.011236</td>\n",
       "      <td>0.038095</td>\n",
       "      <td>NaN</td>\n",
       "      <td>NaN</td>\n",
       "      <td>NaN</td>\n",
       "      <td>0.020833</td>\n",
       "      <td>NaN</td>\n",
       "      <td>0.24</td>\n",
       "      <td>NaN</td>\n",
       "      <td>NaN</td>\n",
       "      <td>NaN</td>\n",
       "      <td>NaN</td>\n",
       "      <td>NaN</td>\n",
       "      <td>0.020408</td>\n",
       "      <td>0.058824</td>\n",
       "    </tr>\n",
       "    <tr>\n",
       "      <td>Apple</td>\n",
       "      <td>NaN</td>\n",
       "      <td>0.095238</td>\n",
       "      <td>0.041667</td>\n",
       "      <td>0.040541</td>\n",
       "      <td>0.620690</td>\n",
       "      <td>0.062500</td>\n",
       "      <td>0.65625</td>\n",
       "      <td>0.16</td>\n",
       "      <td>0.769231</td>\n",
       "      <td>0.406593</td>\n",
       "      <td>0.147059</td>\n",
       "      <td>0.903226</td>\n",
       "      <td>NaN</td>\n",
       "      <td>0.102041</td>\n",
       "      <td>0.529412</td>\n",
       "    </tr>\n",
       "    <tr>\n",
       "      <td>Plum</td>\n",
       "      <td>NaN</td>\n",
       "      <td>NaN</td>\n",
       "      <td>NaN</td>\n",
       "      <td>NaN</td>\n",
       "      <td>NaN</td>\n",
       "      <td>NaN</td>\n",
       "      <td>NaN</td>\n",
       "      <td>NaN</td>\n",
       "      <td>NaN</td>\n",
       "      <td>0.032967</td>\n",
       "      <td>NaN</td>\n",
       "      <td>NaN</td>\n",
       "      <td>NaN</td>\n",
       "      <td>NaN</td>\n",
       "      <td>NaN</td>\n",
       "    </tr>\n",
       "  </tbody>\n",
       "</table>\n",
       "</div>"
      ],
      "text/plain": [
       "                Apple    Banana  Carambola     Guava      Kiwi     Mango  \\\n",
       "Muskmelon    0.219101  0.009524        NaN  0.027027  0.034483  0.020833   \n",
       "Tomatoes     0.174157       NaN        NaN       NaN       NaN       NaN   \n",
       "Kiwi         0.106742  0.057143        NaN  0.135135       NaN  0.062500   \n",
       "Pear         0.101124  0.028571        NaN  0.067568  0.068966  0.020833   \n",
       "Pitaya       0.101124       NaN        NaN       NaN       NaN       NaN   \n",
       "Guava        0.073034  0.028571   0.458333       NaN       NaN  0.062500   \n",
       "Peach        0.073034       NaN        NaN       NaN       NaN       NaN   \n",
       "Pomegranate  0.050562  0.133333   0.125000  0.027027  0.034483  0.145833   \n",
       "Mango        0.039326  0.476190        NaN  0.270270  0.172414       NaN   \n",
       "Carambola    0.028090  0.123810        NaN  0.175676  0.034483  0.062500   \n",
       "Banana       0.011236       NaN   0.375000  0.256757  0.034483  0.375000   \n",
       "Orange       0.011236  0.009524        NaN       NaN       NaN  0.166667   \n",
       "Persimmon    0.011236  0.038095        NaN       NaN       NaN  0.020833   \n",
       "Apple             NaN  0.095238   0.041667  0.040541  0.620690  0.062500   \n",
       "Plum              NaN       NaN        NaN       NaN       NaN       NaN   \n",
       "\n",
       "             Muskmelon  Orange     Peach      Pear  Persimmon    Pitaya  Plum  \\\n",
       "Muskmelon          NaN     NaN       NaN  0.076923        NaN       NaN   1.0   \n",
       "Tomatoes           NaN    0.08  0.012821       NaN   0.058824       NaN   NaN   \n",
       "Kiwi               NaN     NaN  0.076923  0.032967   0.176471  0.032258   NaN   \n",
       "Pear           0.09375     NaN       NaN       NaN        NaN       NaN   NaN   \n",
       "Pitaya             NaN     NaN  0.128205       NaN        NaN       NaN   NaN   \n",
       "Guava          0.21875     NaN       NaN  0.186813        NaN       NaN   NaN   \n",
       "Peach              NaN     NaN       NaN  0.010989        NaN  0.064516   NaN   \n",
       "Pomegranate    0.03125     NaN       NaN  0.032967        NaN       NaN   NaN   \n",
       "Mango              NaN    0.52  0.012821  0.098901        NaN       NaN   NaN   \n",
       "Carambola          NaN     NaN       NaN       NaN        NaN       NaN   NaN   \n",
       "Banana             NaN     NaN       NaN  0.120879        NaN       NaN   NaN   \n",
       "Orange             NaN     NaN       NaN       NaN   0.617647       NaN   NaN   \n",
       "Persimmon          NaN    0.24       NaN       NaN        NaN       NaN   NaN   \n",
       "Apple          0.65625    0.16  0.769231  0.406593   0.147059  0.903226   NaN   \n",
       "Plum               NaN     NaN       NaN  0.032967        NaN       NaN   NaN   \n",
       "\n",
       "             Pomegranate  Tomatoes  \n",
       "Muskmelon       0.020408       NaN  \n",
       "Tomatoes             NaN       NaN  \n",
       "Kiwi            0.040816  0.058824  \n",
       "Pear                 NaN       NaN  \n",
       "Pitaya               NaN  0.117647  \n",
       "Guava           0.020408       NaN  \n",
       "Peach                NaN  0.235294  \n",
       "Pomegranate          NaN       NaN  \n",
       "Mango           0.428571       NaN  \n",
       "Carambola       0.081633       NaN  \n",
       "Banana          0.183673       NaN  \n",
       "Orange          0.102041       NaN  \n",
       "Persimmon       0.020408  0.058824  \n",
       "Apple           0.102041  0.529412  \n",
       "Plum                 NaN       NaN  "
      ]
     },
     "execution_count": 93,
     "metadata": {},
     "output_type": "execute_result"
    }
   ],
   "source": [
    "wrong_predictions_df"
   ]
  },
  {
   "cell_type": "code",
   "execution_count": 95,
   "metadata": {},
   "outputs": [],
   "source": [
    "import pickle"
   ]
  },
  {
   "cell_type": "code",
   "execution_count": 96,
   "metadata": {},
   "outputs": [],
   "source": [
    "wrong_pickle_out = open('Wrong_preds_df.pickle', 'wb')\n",
    "pickle.dump(wrong_predictions_df, wrong_pickle_out)\n",
    "wrong_pickle_out.close()"
   ]
  },
  {
   "cell_type": "code",
   "execution_count": 97,
   "metadata": {},
   "outputs": [],
   "source": [
    "pickle_wrong = open('Wrong_preds_df.pickle', 'rb')\n",
    "test= pickle.load(pickle_wrong)"
   ]
  },
  {
   "cell_type": "code",
   "execution_count": 98,
   "metadata": {},
   "outputs": [
    {
     "data": {
      "text/html": [
       "<div>\n",
       "<style scoped>\n",
       "    .dataframe tbody tr th:only-of-type {\n",
       "        vertical-align: middle;\n",
       "    }\n",
       "\n",
       "    .dataframe tbody tr th {\n",
       "        vertical-align: top;\n",
       "    }\n",
       "\n",
       "    .dataframe thead th {\n",
       "        text-align: right;\n",
       "    }\n",
       "</style>\n",
       "<table border=\"1\" class=\"dataframe\">\n",
       "  <thead>\n",
       "    <tr style=\"text-align: right;\">\n",
       "      <th></th>\n",
       "      <th>Apple</th>\n",
       "      <th>Banana</th>\n",
       "      <th>Carambola</th>\n",
       "      <th>Guava</th>\n",
       "      <th>Kiwi</th>\n",
       "      <th>Mango</th>\n",
       "      <th>Muskmelon</th>\n",
       "      <th>Orange</th>\n",
       "      <th>Peach</th>\n",
       "      <th>Pear</th>\n",
       "      <th>Persimmon</th>\n",
       "      <th>Pitaya</th>\n",
       "      <th>Plum</th>\n",
       "      <th>Pomegranate</th>\n",
       "      <th>Tomatoes</th>\n",
       "    </tr>\n",
       "  </thead>\n",
       "  <tbody>\n",
       "    <tr>\n",
       "      <td>Muskmelon</td>\n",
       "      <td>0.219101</td>\n",
       "      <td>0.009524</td>\n",
       "      <td>NaN</td>\n",
       "      <td>0.027027</td>\n",
       "      <td>0.034483</td>\n",
       "      <td>0.020833</td>\n",
       "      <td>NaN</td>\n",
       "      <td>NaN</td>\n",
       "      <td>NaN</td>\n",
       "      <td>0.076923</td>\n",
       "      <td>NaN</td>\n",
       "      <td>NaN</td>\n",
       "      <td>1.0</td>\n",
       "      <td>0.020408</td>\n",
       "      <td>NaN</td>\n",
       "    </tr>\n",
       "    <tr>\n",
       "      <td>Tomatoes</td>\n",
       "      <td>0.174157</td>\n",
       "      <td>NaN</td>\n",
       "      <td>NaN</td>\n",
       "      <td>NaN</td>\n",
       "      <td>NaN</td>\n",
       "      <td>NaN</td>\n",
       "      <td>NaN</td>\n",
       "      <td>0.08</td>\n",
       "      <td>0.012821</td>\n",
       "      <td>NaN</td>\n",
       "      <td>0.058824</td>\n",
       "      <td>NaN</td>\n",
       "      <td>NaN</td>\n",
       "      <td>NaN</td>\n",
       "      <td>NaN</td>\n",
       "    </tr>\n",
       "    <tr>\n",
       "      <td>Kiwi</td>\n",
       "      <td>0.106742</td>\n",
       "      <td>0.057143</td>\n",
       "      <td>NaN</td>\n",
       "      <td>0.135135</td>\n",
       "      <td>NaN</td>\n",
       "      <td>0.062500</td>\n",
       "      <td>NaN</td>\n",
       "      <td>NaN</td>\n",
       "      <td>0.076923</td>\n",
       "      <td>0.032967</td>\n",
       "      <td>0.176471</td>\n",
       "      <td>0.032258</td>\n",
       "      <td>NaN</td>\n",
       "      <td>0.040816</td>\n",
       "      <td>0.058824</td>\n",
       "    </tr>\n",
       "    <tr>\n",
       "      <td>Pear</td>\n",
       "      <td>0.101124</td>\n",
       "      <td>0.028571</td>\n",
       "      <td>NaN</td>\n",
       "      <td>0.067568</td>\n",
       "      <td>0.068966</td>\n",
       "      <td>0.020833</td>\n",
       "      <td>0.09375</td>\n",
       "      <td>NaN</td>\n",
       "      <td>NaN</td>\n",
       "      <td>NaN</td>\n",
       "      <td>NaN</td>\n",
       "      <td>NaN</td>\n",
       "      <td>NaN</td>\n",
       "      <td>NaN</td>\n",
       "      <td>NaN</td>\n",
       "    </tr>\n",
       "    <tr>\n",
       "      <td>Pitaya</td>\n",
       "      <td>0.101124</td>\n",
       "      <td>NaN</td>\n",
       "      <td>NaN</td>\n",
       "      <td>NaN</td>\n",
       "      <td>NaN</td>\n",
       "      <td>NaN</td>\n",
       "      <td>NaN</td>\n",
       "      <td>NaN</td>\n",
       "      <td>0.128205</td>\n",
       "      <td>NaN</td>\n",
       "      <td>NaN</td>\n",
       "      <td>NaN</td>\n",
       "      <td>NaN</td>\n",
       "      <td>NaN</td>\n",
       "      <td>0.117647</td>\n",
       "    </tr>\n",
       "    <tr>\n",
       "      <td>Guava</td>\n",
       "      <td>0.073034</td>\n",
       "      <td>0.028571</td>\n",
       "      <td>0.458333</td>\n",
       "      <td>NaN</td>\n",
       "      <td>NaN</td>\n",
       "      <td>0.062500</td>\n",
       "      <td>0.21875</td>\n",
       "      <td>NaN</td>\n",
       "      <td>NaN</td>\n",
       "      <td>0.186813</td>\n",
       "      <td>NaN</td>\n",
       "      <td>NaN</td>\n",
       "      <td>NaN</td>\n",
       "      <td>0.020408</td>\n",
       "      <td>NaN</td>\n",
       "    </tr>\n",
       "    <tr>\n",
       "      <td>Peach</td>\n",
       "      <td>0.073034</td>\n",
       "      <td>NaN</td>\n",
       "      <td>NaN</td>\n",
       "      <td>NaN</td>\n",
       "      <td>NaN</td>\n",
       "      <td>NaN</td>\n",
       "      <td>NaN</td>\n",
       "      <td>NaN</td>\n",
       "      <td>NaN</td>\n",
       "      <td>0.010989</td>\n",
       "      <td>NaN</td>\n",
       "      <td>0.064516</td>\n",
       "      <td>NaN</td>\n",
       "      <td>NaN</td>\n",
       "      <td>0.235294</td>\n",
       "    </tr>\n",
       "    <tr>\n",
       "      <td>Pomegranate</td>\n",
       "      <td>0.050562</td>\n",
       "      <td>0.133333</td>\n",
       "      <td>0.125000</td>\n",
       "      <td>0.027027</td>\n",
       "      <td>0.034483</td>\n",
       "      <td>0.145833</td>\n",
       "      <td>0.03125</td>\n",
       "      <td>NaN</td>\n",
       "      <td>NaN</td>\n",
       "      <td>0.032967</td>\n",
       "      <td>NaN</td>\n",
       "      <td>NaN</td>\n",
       "      <td>NaN</td>\n",
       "      <td>NaN</td>\n",
       "      <td>NaN</td>\n",
       "    </tr>\n",
       "    <tr>\n",
       "      <td>Mango</td>\n",
       "      <td>0.039326</td>\n",
       "      <td>0.476190</td>\n",
       "      <td>NaN</td>\n",
       "      <td>0.270270</td>\n",
       "      <td>0.172414</td>\n",
       "      <td>NaN</td>\n",
       "      <td>NaN</td>\n",
       "      <td>0.52</td>\n",
       "      <td>0.012821</td>\n",
       "      <td>0.098901</td>\n",
       "      <td>NaN</td>\n",
       "      <td>NaN</td>\n",
       "      <td>NaN</td>\n",
       "      <td>0.428571</td>\n",
       "      <td>NaN</td>\n",
       "    </tr>\n",
       "    <tr>\n",
       "      <td>Carambola</td>\n",
       "      <td>0.028090</td>\n",
       "      <td>0.123810</td>\n",
       "      <td>NaN</td>\n",
       "      <td>0.175676</td>\n",
       "      <td>0.034483</td>\n",
       "      <td>0.062500</td>\n",
       "      <td>NaN</td>\n",
       "      <td>NaN</td>\n",
       "      <td>NaN</td>\n",
       "      <td>NaN</td>\n",
       "      <td>NaN</td>\n",
       "      <td>NaN</td>\n",
       "      <td>NaN</td>\n",
       "      <td>0.081633</td>\n",
       "      <td>NaN</td>\n",
       "    </tr>\n",
       "    <tr>\n",
       "      <td>Banana</td>\n",
       "      <td>0.011236</td>\n",
       "      <td>NaN</td>\n",
       "      <td>0.375000</td>\n",
       "      <td>0.256757</td>\n",
       "      <td>0.034483</td>\n",
       "      <td>0.375000</td>\n",
       "      <td>NaN</td>\n",
       "      <td>NaN</td>\n",
       "      <td>NaN</td>\n",
       "      <td>0.120879</td>\n",
       "      <td>NaN</td>\n",
       "      <td>NaN</td>\n",
       "      <td>NaN</td>\n",
       "      <td>0.183673</td>\n",
       "      <td>NaN</td>\n",
       "    </tr>\n",
       "    <tr>\n",
       "      <td>Orange</td>\n",
       "      <td>0.011236</td>\n",
       "      <td>0.009524</td>\n",
       "      <td>NaN</td>\n",
       "      <td>NaN</td>\n",
       "      <td>NaN</td>\n",
       "      <td>0.166667</td>\n",
       "      <td>NaN</td>\n",
       "      <td>NaN</td>\n",
       "      <td>NaN</td>\n",
       "      <td>NaN</td>\n",
       "      <td>0.617647</td>\n",
       "      <td>NaN</td>\n",
       "      <td>NaN</td>\n",
       "      <td>0.102041</td>\n",
       "      <td>NaN</td>\n",
       "    </tr>\n",
       "    <tr>\n",
       "      <td>Persimmon</td>\n",
       "      <td>0.011236</td>\n",
       "      <td>0.038095</td>\n",
       "      <td>NaN</td>\n",
       "      <td>NaN</td>\n",
       "      <td>NaN</td>\n",
       "      <td>0.020833</td>\n",
       "      <td>NaN</td>\n",
       "      <td>0.24</td>\n",
       "      <td>NaN</td>\n",
       "      <td>NaN</td>\n",
       "      <td>NaN</td>\n",
       "      <td>NaN</td>\n",
       "      <td>NaN</td>\n",
       "      <td>0.020408</td>\n",
       "      <td>0.058824</td>\n",
       "    </tr>\n",
       "    <tr>\n",
       "      <td>Apple</td>\n",
       "      <td>NaN</td>\n",
       "      <td>0.095238</td>\n",
       "      <td>0.041667</td>\n",
       "      <td>0.040541</td>\n",
       "      <td>0.620690</td>\n",
       "      <td>0.062500</td>\n",
       "      <td>0.65625</td>\n",
       "      <td>0.16</td>\n",
       "      <td>0.769231</td>\n",
       "      <td>0.406593</td>\n",
       "      <td>0.147059</td>\n",
       "      <td>0.903226</td>\n",
       "      <td>NaN</td>\n",
       "      <td>0.102041</td>\n",
       "      <td>0.529412</td>\n",
       "    </tr>\n",
       "    <tr>\n",
       "      <td>Plum</td>\n",
       "      <td>NaN</td>\n",
       "      <td>NaN</td>\n",
       "      <td>NaN</td>\n",
       "      <td>NaN</td>\n",
       "      <td>NaN</td>\n",
       "      <td>NaN</td>\n",
       "      <td>NaN</td>\n",
       "      <td>NaN</td>\n",
       "      <td>NaN</td>\n",
       "      <td>0.032967</td>\n",
       "      <td>NaN</td>\n",
       "      <td>NaN</td>\n",
       "      <td>NaN</td>\n",
       "      <td>NaN</td>\n",
       "      <td>NaN</td>\n",
       "    </tr>\n",
       "  </tbody>\n",
       "</table>\n",
       "</div>"
      ],
      "text/plain": [
       "                Apple    Banana  Carambola     Guava      Kiwi     Mango  \\\n",
       "Muskmelon    0.219101  0.009524        NaN  0.027027  0.034483  0.020833   \n",
       "Tomatoes     0.174157       NaN        NaN       NaN       NaN       NaN   \n",
       "Kiwi         0.106742  0.057143        NaN  0.135135       NaN  0.062500   \n",
       "Pear         0.101124  0.028571        NaN  0.067568  0.068966  0.020833   \n",
       "Pitaya       0.101124       NaN        NaN       NaN       NaN       NaN   \n",
       "Guava        0.073034  0.028571   0.458333       NaN       NaN  0.062500   \n",
       "Peach        0.073034       NaN        NaN       NaN       NaN       NaN   \n",
       "Pomegranate  0.050562  0.133333   0.125000  0.027027  0.034483  0.145833   \n",
       "Mango        0.039326  0.476190        NaN  0.270270  0.172414       NaN   \n",
       "Carambola    0.028090  0.123810        NaN  0.175676  0.034483  0.062500   \n",
       "Banana       0.011236       NaN   0.375000  0.256757  0.034483  0.375000   \n",
       "Orange       0.011236  0.009524        NaN       NaN       NaN  0.166667   \n",
       "Persimmon    0.011236  0.038095        NaN       NaN       NaN  0.020833   \n",
       "Apple             NaN  0.095238   0.041667  0.040541  0.620690  0.062500   \n",
       "Plum              NaN       NaN        NaN       NaN       NaN       NaN   \n",
       "\n",
       "             Muskmelon  Orange     Peach      Pear  Persimmon    Pitaya  Plum  \\\n",
       "Muskmelon          NaN     NaN       NaN  0.076923        NaN       NaN   1.0   \n",
       "Tomatoes           NaN    0.08  0.012821       NaN   0.058824       NaN   NaN   \n",
       "Kiwi               NaN     NaN  0.076923  0.032967   0.176471  0.032258   NaN   \n",
       "Pear           0.09375     NaN       NaN       NaN        NaN       NaN   NaN   \n",
       "Pitaya             NaN     NaN  0.128205       NaN        NaN       NaN   NaN   \n",
       "Guava          0.21875     NaN       NaN  0.186813        NaN       NaN   NaN   \n",
       "Peach              NaN     NaN       NaN  0.010989        NaN  0.064516   NaN   \n",
       "Pomegranate    0.03125     NaN       NaN  0.032967        NaN       NaN   NaN   \n",
       "Mango              NaN    0.52  0.012821  0.098901        NaN       NaN   NaN   \n",
       "Carambola          NaN     NaN       NaN       NaN        NaN       NaN   NaN   \n",
       "Banana             NaN     NaN       NaN  0.120879        NaN       NaN   NaN   \n",
       "Orange             NaN     NaN       NaN       NaN   0.617647       NaN   NaN   \n",
       "Persimmon          NaN    0.24       NaN       NaN        NaN       NaN   NaN   \n",
       "Apple          0.65625    0.16  0.769231  0.406593   0.147059  0.903226   NaN   \n",
       "Plum               NaN     NaN       NaN  0.032967        NaN       NaN   NaN   \n",
       "\n",
       "             Pomegranate  Tomatoes  \n",
       "Muskmelon       0.020408       NaN  \n",
       "Tomatoes             NaN       NaN  \n",
       "Kiwi            0.040816  0.058824  \n",
       "Pear                 NaN       NaN  \n",
       "Pitaya               NaN  0.117647  \n",
       "Guava           0.020408       NaN  \n",
       "Peach                NaN  0.235294  \n",
       "Pomegranate          NaN       NaN  \n",
       "Mango           0.428571       NaN  \n",
       "Carambola       0.081633       NaN  \n",
       "Banana          0.183673       NaN  \n",
       "Orange          0.102041       NaN  \n",
       "Persimmon       0.020408  0.058824  \n",
       "Apple           0.102041  0.529412  \n",
       "Plum                 NaN       NaN  "
      ]
     },
     "execution_count": 98,
     "metadata": {},
     "output_type": "execute_result"
    }
   ],
   "source": [
    "test"
   ]
  },
  {
   "cell_type": "code",
   "execution_count": null,
   "metadata": {},
   "outputs": [],
   "source": [
    "model_5 = Sequential([Conv2D(10, kernel_size=(1), activation='relu'),\n",
    "                  Flatten(input_shape=(50,50)),\n",
    "                  Dropout(0.3),\n",
    "                  Dense(64, activation='sigmoid', bias_regularizer=regularizers.l1(0.02)),\n",
    "                  Dense(15, activation='softmax')])\n",
    "\n",
    "model_5.compile(optimizer='adagrad', loss='categorical_crossentropy', metrics=['accuracy'])"
   ]
  },
  {
   "cell_type": "code",
   "execution_count": null,
   "metadata": {},
   "outputs": [],
   "source": []
  }
 ],
 "metadata": {
  "kernelspec": {
   "display_name": "learn-env",
   "language": "python",
   "name": "learn-env"
  },
  "language_info": {
   "codemirror_mode": {
    "name": "ipython",
    "version": 3
   },
   "file_extension": ".py",
   "mimetype": "text/x-python",
   "name": "python",
   "nbconvert_exporter": "python",
   "pygments_lexer": "ipython3",
   "version": "3.6.9"
  }
 },
 "nbformat": 4,
 "nbformat_minor": 4
}
