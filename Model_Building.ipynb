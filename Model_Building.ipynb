{
 "cells": [
  {
   "cell_type": "markdown",
   "metadata": {},
   "source": [
    "# Importing Necessary Packages"
   ]
  },
  {
   "cell_type": "code",
   "execution_count": 30,
   "metadata": {},
   "outputs": [],
   "source": [
    "# Importing all the functions I made for data creation/manipulation\n",
    "from data_creation import data_creation, pickle_me, get_pickle\n",
    "\n",
    "# Model Building\n",
    "import pandas as pd\n",
    "import numpy as np\n",
    "\n",
    "# Neural Network Building\n",
    "from sklearn.model_selection import train_test_split\n",
    "from keras.models import Sequential\n",
    "from keras import regularizers\n",
    "from keras.layers import Dense, Flatten, Dropout, Conv1D, Conv2D, ELU\n",
    "\n",
    "# Classification Metrics\n",
    "from sklearn.metrics import confusion_matrix\n",
    "from data_creation import get_precisions\n",
    "from sklearn.metrics import precision_score, recall_score, f1_score\n",
    "\n",
    "# Packaging Data\n",
    "import pickle\n",
    "\n",
    "# Visualization\n",
    "import seaborn as sns\n",
    "import matplotlib.pyplot as plt"
   ]
  },
  {
   "cell_type": "markdown",
   "metadata": {},
   "source": [
    "# Data Creation"
   ]
  },
  {
   "cell_type": "markdown",
   "metadata": {},
   "source": [
    "#### I only need to run this once to create my data. It will pickle my data for future reference.\n",
    "I will only run the categories object since I call on it later in the notebook."
   ]
  },
  {
   "cell_type": "code",
   "execution_count": 2,
   "metadata": {},
   "outputs": [],
   "source": [
    "# Directory where all the images are stored.\n",
    "#data_dir = 'C://Users/Cristian/Documents/flatiron/Capstone/Fruit'\n",
    "\n",
    "# Categories of Fruit with the correct labels.\n",
    "categories = ['Apple', 'Banana', 'Carambola', 'Guava', 'Kiwi', 'Mango',\n",
    "              'Muskmelon', 'Orange', 'Peach', 'Pear', 'Persimmon', 'Pitaya',\n",
    "              'Plum', 'Pomegranate', 'Tomato']"
   ]
  },
  {
   "cell_type": "markdown",
   "metadata": {},
   "source": [
    "##### Creating Grayscale data and pickling it"
   ]
  },
  {
   "cell_type": "code",
   "execution_count": 3,
   "metadata": {},
   "outputs": [],
   "source": [
    "#X_gray, y_gray = data_creation(50, 0, categories, data_dir)\n",
    "#pickle_me(X_gray,y_gray, 'X_grayscale', 'y_grayscale')"
   ]
  },
  {
   "cell_type": "markdown",
   "metadata": {},
   "source": [
    "##### Creating Color data and pickling it"
   ]
  },
  {
   "cell_type": "code",
   "execution_count": 4,
   "metadata": {},
   "outputs": [],
   "source": [
    "#X_color, y_color = data_creation(50, 1, categories, data_dir)\n",
    "#pickle_me(X_color, y_color,'X_color', 'y_color')"
   ]
  },
  {
   "cell_type": "markdown",
   "metadata": {},
   "source": [
    "##### Getting our pickled data for grayscale images and color images"
   ]
  },
  {
   "cell_type": "code",
   "execution_count": 5,
   "metadata": {},
   "outputs": [],
   "source": [
    "X_grayscale, y_grayscale = get_pickle('X_grayscale.pickle', 'y_grayscale.pickle')"
   ]
  },
  {
   "cell_type": "code",
   "execution_count": 6,
   "metadata": {},
   "outputs": [],
   "source": [
    "X_rgb, y_rgb = get_pickle('X_color.pickle', 'y_color.pickle')"
   ]
  },
  {
   "cell_type": "markdown",
   "metadata": {},
   "source": [
    "# Data Manipulation"
   ]
  },
  {
   "cell_type": "markdown",
   "metadata": {},
   "source": [
    "#### Creating a train, test split for cross-validation.\n",
    "'gs' will be for grayscale images, 'rgb' will be for colore images"
   ]
  },
  {
   "cell_type": "code",
   "execution_count": 7,
   "metadata": {},
   "outputs": [],
   "source": [
    "X_gs_train, X_gs_test, y_gs_train, y_gs_test = train_test_split(X_grayscale,\n",
    "                                                                y_grayscale, \n",
    "                                                                test_size=.2,\n",
    "                                                                random_state=42)"
   ]
  },
  {
   "cell_type": "code",
   "execution_count": 8,
   "metadata": {},
   "outputs": [],
   "source": [
    "X_rgb_train, X_rgb_test, y_rgb_train, y_rgb_test = train_test_split(X_rgb,\n",
    "                                                                    y_rgb, \n",
    "                                                                    test_size=.2,\n",
    "                                                                    random_state=42)"
   ]
  },
  {
   "cell_type": "markdown",
   "metadata": {},
   "source": [
    "#### Scaling our data and reshaping so they are the correct input for our models."
   ]
  },
  {
   "cell_type": "code",
   "execution_count": 9,
   "metadata": {},
   "outputs": [],
   "source": [
    "X_gs_train_sc = X_gs_train/255.0\n",
    "X_gs_test_sc = X_gs_test/255.0\n",
    "\n",
    "X_gs_train_reshape = X_gs_train_sc.reshape((X_gs_train.shape[0],50,50,))\n",
    "X_gs_test_reshape = X_gs_test_sc.reshape((X_gs_test.shape[0],50,50,))"
   ]
  },
  {
   "cell_type": "code",
   "execution_count": 10,
   "metadata": {},
   "outputs": [],
   "source": [
    "X_rgb_train_sc = X_rgb_train/255.0\n",
    "X_rgb_test_sc = X_rgb_test/255.0\n",
    "\n",
    "X_rgb_train_reshape = X_rgb_train_sc.reshape((X_rgb_train.shape[0],50,50,3))\n",
    "X_rgb_test_reshape = X_rgb_test_sc.reshape((X_rgb_test.shape[0],50,50,3))"
   ]
  },
  {
   "cell_type": "markdown",
   "metadata": {},
   "source": [
    "#### For our models we need a target input of (15,) instead of (1,), which is the number of fruit labels we have"
   ]
  },
  {
   "cell_type": "code",
   "execution_count": 11,
   "metadata": {},
   "outputs": [],
   "source": [
    "y_gs_train_dummies = pd.get_dummies(y_gs_train)\n",
    "y_gs_test_dummies = pd.get_dummies(y_gs_test)"
   ]
  },
  {
   "cell_type": "code",
   "execution_count": 12,
   "metadata": {},
   "outputs": [],
   "source": [
    "y_rgb_train_dummies = np.array(pd.get_dummies(y_rgb_train))\n",
    "y_rgb_test_dummies = np.array(pd.get_dummies(y_rgb_test))"
   ]
  },
  {
   "cell_type": "markdown",
   "metadata": {},
   "source": [
    "# Model Building\n",
    "As a way to better visualize how models are doing compared to one another, I will create the neural networks, compile them, and fit our data. Then, I will have them predict classes and put our classification metrics into a dataframe."
   ]
  },
  {
   "cell_type": "markdown",
   "metadata": {},
   "source": [
    "## Grayscale Models"
   ]
  },
  {
   "cell_type": "markdown",
   "metadata": {},
   "source": [
    "### Model 1\n",
    "First Simple Model"
   ]
  },
  {
   "cell_type": "code",
   "execution_count": 13,
   "metadata": {},
   "outputs": [
    {
     "name": "stdout",
     "output_type": "stream",
     "text": [
      "WARNING:tensorflow:From C:\\Users\\Cristian\\.conda\\envs\\learn-env\\lib\\site-packages\\keras\\backend\\tensorflow_backend.py:422: The name tf.global_variables is deprecated. Please use tf.compat.v1.global_variables instead.\n",
      "\n",
      "Train on 35524 samples, validate on 8882 samples\n",
      "Epoch 1/5\n",
      "35524/35524 [==============================] - 10s 273us/step - loss: 1.6822 - accuracy: 0.5513 - mae: 0.0917 - mse: 0.0420 - val_loss: 1.5720 - val_accuracy: 0.5347 - val_mae: 0.0836 - val_mse: 0.0409\n",
      "Epoch 2/5\n",
      "35524/35524 [==============================] - 2s 55us/step - loss: 1.2086 - accuracy: 0.6879 - mae: 0.0733 - mse: 0.0310 - val_loss: 1.3397 - val_accuracy: 0.5903 - val_mae: 0.0751 - val_mse: 0.0362\n",
      "Epoch 3/5\n",
      "35524/35524 [==============================] - 2s 55us/step - loss: 1.1017 - accuracy: 0.7126 - mae: 0.0668 - mse: 0.0279 - val_loss: 1.1192 - val_accuracy: 0.7002 - val_mae: 0.0658 - val_mse: 0.0284\n",
      "Epoch 4/5\n",
      "35524/35524 [==============================] - 2s 54us/step - loss: 1.0426 - accuracy: 0.7258 - mae: 0.0630 - mse: 0.0261 - val_loss: 1.0761 - val_accuracy: 0.7228 - val_mae: 0.0630 - val_mse: 0.0268\n",
      "Epoch 5/5\n",
      "35524/35524 [==============================] - 2s 53us/step - loss: 1.0030 - accuracy: 0.7350 - mae: 0.0603 - mse: 0.0250 - val_loss: 1.0934 - val_accuracy: 0.7022 - val_mae: 0.0627 - val_mse: 0.0276\n"
     ]
    }
   ],
   "source": [
    "model_1 = Sequential([Flatten(input_shape=(50,50)),\n",
    "                      Dense(15, activation='softmax')])\n",
    "model_1.compile(optimizer='adagrad', loss='categorical_crossentropy', metrics=['accuracy', 'mae', 'mse'])\n",
    "model_1_results = model_1.fit(X_gs_train_reshape, y_gs_train_dummies, epochs=5, validation_data =(X_gs_test_reshape, y_gs_test_dummies))"
   ]
  },
  {
   "cell_type": "markdown",
   "metadata": {},
   "source": [
    "### Model 2\n",
    "Adding a convolutional layer"
   ]
  },
  {
   "cell_type": "code",
   "execution_count": 14,
   "metadata": {},
   "outputs": [
    {
     "name": "stdout",
     "output_type": "stream",
     "text": [
      "Train on 35524 samples, validate on 8882 samples\n",
      "Epoch 1/5\n",
      "35524/35524 [==============================] - 4s 123us/step - loss: 1.1140 - accuracy: 0.6936 - mae: 0.0634 - mse: 0.0278 - val_loss: 1.2451 - val_accuracy: 0.6747 - val_mae: 0.0605 - val_mse: 0.0322\n",
      "Epoch 2/5\n",
      "35524/35524 [==============================] - 4s 115us/step - loss: 0.7981 - accuracy: 0.7773 - mae: 0.0463 - mse: 0.0198 - val_loss: 0.9840 - val_accuracy: 0.7204 - val_mae: 0.0510 - val_mse: 0.0254\n",
      "Epoch 3/5\n",
      "35524/35524 [==============================] - 4s 121us/step - loss: 0.7315 - accuracy: 0.7915 - mae: 0.0423 - mse: 0.0182 - val_loss: 0.8898 - val_accuracy: 0.7378 - val_mae: 0.0479 - val_mse: 0.0226\n",
      "Epoch 4/5\n",
      "35524/35524 [==============================] - 4s 118us/step - loss: 0.6933 - accuracy: 0.7988 - mae: 0.0401 - mse: 0.0173 - val_loss: 0.7632 - val_accuracy: 0.7802 - val_mae: 0.0418 - val_mse: 0.0187\n",
      "Epoch 5/5\n",
      "35524/35524 [==============================] - 4s 114us/step - loss: 0.6662 - accuracy: 0.8058 - mae: 0.0386 - mse: 0.0167 - val_loss: 0.7433 - val_accuracy: 0.7861 - val_mae: 0.0400 - val_mse: 0.0182\n"
     ]
    }
   ],
   "source": [
    "model_2 = Sequential([Conv1D(100, kernel_size=(1), activation='relu', input_shape=(50,50)),\n",
    "                      Flatten(input_shape=(50,50)),\n",
    "                      Dense(15, activation='softmax')])\n",
    "model_2.compile(optimizer='adagrad', loss='categorical_crossentropy', metrics=['accuracy', 'mae', 'mse'])\n",
    "model_2_results = model_2.fit(X_gs_train_reshape, y_gs_train_dummies, epochs=5, validation_data =(X_gs_test_reshape, y_gs_test_dummies))"
   ]
  },
  {
   "cell_type": "markdown",
   "metadata": {},
   "source": [
    "### Model 3\n",
    "Changing the number of neurons for the convolutional layer"
   ]
  },
  {
   "cell_type": "code",
   "execution_count": 15,
   "metadata": {},
   "outputs": [
    {
     "name": "stdout",
     "output_type": "stream",
     "text": [
      "Train on 35524 samples, validate on 8882 samples\n",
      "Epoch 1/5\n",
      "35524/35524 [==============================] - 4s 118us/step - loss: 1.2267 - accuracy: 0.6641 - mae: 0.0703 - mse: 0.0309 - val_loss: 1.0069 - val_accuracy: 0.7358 - val_mae: 0.0560 - val_mse: 0.0252\n",
      "Epoch 2/5\n",
      "35524/35524 [==============================] - 4s 117us/step - loss: 0.8974 - accuracy: 0.7544 - mae: 0.0524 - mse: 0.0223 - val_loss: 0.9587 - val_accuracy: 0.7216 - val_mae: 0.0538 - val_mse: 0.0241\n",
      "Epoch 3/5\n",
      "35524/35524 [==============================] - 4s 118us/step - loss: 0.8248 - accuracy: 0.7711 - mae: 0.0477 - mse: 0.0204 - val_loss: 0.8582 - val_accuracy: 0.7623 - val_mae: 0.0474 - val_mse: 0.0210\n",
      "Epoch 4/5\n",
      "35524/35524 [==============================] - 4s 117us/step - loss: 0.7837 - accuracy: 0.7779 - mae: 0.0452 - mse: 0.0195 - val_loss: 0.8519 - val_accuracy: 0.7591 - val_mae: 0.0462 - val_mse: 0.0209\n",
      "Epoch 5/5\n",
      "35524/35524 [==============================] - 4s 118us/step - loss: 0.7564 - accuracy: 0.7848 - mae: 0.0436 - mse: 0.0188 - val_loss: 0.8529 - val_accuracy: 0.7528 - val_mae: 0.0465 - val_mse: 0.0211\n"
     ]
    }
   ],
   "source": [
    "model_3 = Sequential([Conv1D(50, kernel_size=(1), activation='relu', input_shape=(50,50)),\n",
    "                      Flatten(input_shape=(50,50)),\n",
    "                      Dense(15, activation='softmax')])\n",
    "model_3.compile(optimizer='adagrad', loss='categorical_crossentropy', metrics=['accuracy', 'mae', 'mse'])\n",
    "model_3_results = model_3.fit(X_gs_train_reshape, y_gs_train_dummies, epochs=5, validation_data =(X_gs_test_reshape, y_gs_test_dummies))"
   ]
  },
  {
   "cell_type": "markdown",
   "metadata": {},
   "source": [
    "### Model 4\n",
    "Adding another dense layer"
   ]
  },
  {
   "cell_type": "code",
   "execution_count": 16,
   "metadata": {},
   "outputs": [
    {
     "name": "stdout",
     "output_type": "stream",
     "text": [
      "Train on 35524 samples, validate on 8882 samples\n",
      "Epoch 1/5\n",
      "35524/35524 [==============================] - 5s 129us/step - loss: 1.6375 - accuracy: 0.5964 - mae: 0.0972 - mse: 0.0426 - val_loss: 1.3698 - val_accuracy: 0.6863 - val_mae: 0.0861 - val_mse: 0.0356\n",
      "Epoch 2/5\n",
      "35524/35524 [==============================] - 4s 125us/step - loss: 1.1973 - accuracy: 0.7187 - mae: 0.0762 - mse: 0.0305 - val_loss: 1.1637 - val_accuracy: 0.7189 - val_mae: 0.0731 - val_mse: 0.0295\n",
      "Epoch 3/5\n",
      "35524/35524 [==============================] - 4s 126us/step - loss: 1.0578 - accuracy: 0.7406 - mae: 0.0669 - mse: 0.0264 - val_loss: 1.0966 - val_accuracy: 0.7078 - val_mae: 0.0674 - val_mse: 0.0276\n",
      "Epoch 4/5\n",
      "35524/35524 [==============================] - 4s 124us/step - loss: 0.9772 - accuracy: 0.7526 - mae: 0.0614 - mse: 0.0241 - val_loss: 0.9633 - val_accuracy: 0.7499 - val_mae: 0.0595 - val_mse: 0.0236\n",
      "Epoch 5/5\n",
      "35524/35524 [==============================] - 4s 121us/step - loss: 0.9208 - accuracy: 0.7615 - mae: 0.0574 - mse: 0.0226 - val_loss: 0.9791 - val_accuracy: 0.7460 - val_mae: 0.0594 - val_mse: 0.0241\n"
     ]
    }
   ],
   "source": [
    "model_4 = Sequential([Conv1D(50, kernel_size=(1), activation='relu', input_shape=(50,50)),\n",
    "                      Flatten(input_shape=(50,50)),\n",
    "                      Dense(30, activation='sigmoid'),\n",
    "                      Dense(15, activation='softmax')])\n",
    "model_4.compile(optimizer='adagrad', loss='categorical_crossentropy', metrics=['accuracy', 'mae', 'mse'])\n",
    "model_4_results = model_4.fit(X_gs_train_reshape, y_gs_train_dummies,epochs=5, validation_data = (X_gs_test_reshape, y_gs_test_dummies))"
   ]
  },
  {
   "cell_type": "markdown",
   "metadata": {},
   "source": [
    "### Model 5\n",
    "Adding a dropout layer"
   ]
  },
  {
   "cell_type": "code",
   "execution_count": 17,
   "metadata": {},
   "outputs": [
    {
     "name": "stdout",
     "output_type": "stream",
     "text": [
      "Train on 35524 samples, validate on 8882 samples\n",
      "Epoch 1/5\n",
      "35524/35524 [==============================] - 6s 161us/step - loss: 1.6911 - accuracy: 0.5686 - mae: 0.0988 - mse: 0.0439 - val_loss: 1.3878 - val_accuracy: 0.6726 - val_mae: 0.0872 - val_mse: 0.0364\n",
      "Epoch 2/5\n",
      "35524/35524 [==============================] - 6s 167us/step - loss: 1.2577 - accuracy: 0.6988 - mae: 0.0796 - mse: 0.0325 - val_loss: 1.1640 - val_accuracy: 0.7094 - val_mae: 0.0741 - val_mse: 0.0298\n",
      "Epoch 3/5\n",
      "35524/35524 [==============================] - 6s 164us/step - loss: 1.1148 - accuracy: 0.7250 - mae: 0.0708 - mse: 0.0283 - val_loss: 1.0637 - val_accuracy: 0.7304 - val_mae: 0.0673 - val_mse: 0.0268\n",
      "Epoch 4/5\n",
      "35524/35524 [==============================] - 5s 152us/step - loss: 1.0330 - accuracy: 0.7368 - mae: 0.0652 - mse: 0.0259 - val_loss: 1.0148 - val_accuracy: 0.7364 - val_mae: 0.0632 - val_mse: 0.0253\n",
      "Epoch 5/5\n",
      "35524/35524 [==============================] - 5s 154us/step - loss: 0.9789 - accuracy: 0.7461 - mae: 0.0613 - mse: 0.0244 - val_loss: 0.9629 - val_accuracy: 0.7451 - val_mae: 0.0599 - val_mse: 0.0239\n"
     ]
    }
   ],
   "source": [
    "model_5 = Sequential([Conv1D(50, kernel_size=(1), activation='relu', input_shape=(50,50)),\n",
    "                      Flatten(input_shape=(50,50)),\n",
    "                      Dropout(0.2),\n",
    "                      Dense(30, activation='sigmoid'),\n",
    "                      Dense(15, activation='softmax')])\n",
    "model_5.compile(optimizer='adagrad', loss='categorical_crossentropy', metrics=['accuracy', 'mae', 'mse'])\n",
    "model_5_results = model_5.fit(X_gs_train_reshape, y_gs_train_dummies,epochs=5, validation_data = (X_gs_test_reshape, y_gs_test_dummies))"
   ]
  },
  {
   "cell_type": "markdown",
   "metadata": {},
   "source": [
    "## Color Images Model"
   ]
  },
  {
   "cell_type": "markdown",
   "metadata": {},
   "source": [
    "### Model 6\n",
    "We are starting to use color images since color is a big factor in determing fruit apart. \n",
    "\n",
    "Model 6 showed a loss in accuracy, mase, and mse after 4 epochs, so it was lowered to 4 epochs exactly."
   ]
  },
  {
   "cell_type": "code",
   "execution_count": 99,
   "metadata": {},
   "outputs": [
    {
     "name": "stdout",
     "output_type": "stream",
     "text": [
      "Train on 35524 samples, validate on 8882 samples\n",
      "Epoch 1/4\n",
      "35524/35524 [==============================] - 104s 3ms/step - loss: 1.0420 - accuracy: 0.8480 - mae: 0.0311 - mse: 0.0149 - val_loss: 0.5346 - val_accuracy: 0.8249 - val_mae: 0.0295 - val_mse: 0.0176\n",
      "Epoch 2/4\n",
      "35524/35524 [==============================] - 105s 3ms/step - loss: 0.1935 - accuracy: 0.9412 - mae: 0.0154 - mse: 0.0060 - val_loss: 0.2376 - val_accuracy: 0.9205 - val_mae: 0.0170 - val_mse: 0.0076\n",
      "Epoch 3/4\n",
      "35524/35524 [==============================] - 103s 3ms/step - loss: 0.1403 - accuracy: 0.9606 - mae: 0.0119 - mse: 0.0043 - val_loss: 0.2398 - val_accuracy: 0.9168 - val_mae: 0.0162 - val_mse: 0.0080\n",
      "Epoch 4/4\n",
      "35524/35524 [==============================] - 104s 3ms/step - loss: 0.1126 - accuracy: 0.9697 - mae: 0.0100 - mse: 0.0034 - val_loss: 0.2754 - val_accuracy: 0.9108 - val_mae: 0.0169 - val_mse: 0.0086\n"
     ]
    }
   ],
   "source": [
    "model_6 = Sequential([Conv2D(100, kernel_size=(1), activation='relu'),\n",
    "                      Flatten(input_shape=(50,50)),\n",
    "                      Dense(15, activation='softmax')])\n",
    "model_6.compile(optimizer='adagrad', loss='categorical_crossentropy', metrics=['accuracy', 'mae', 'mse'])\n",
    "model_6_results = model_6.fit(X_rgb_train_reshape, y_rgb_train_dummies, epochs=4, validation_data=(X_rgb_test_reshape, y_rgb_test_dummies))"
   ]
  },
  {
   "cell_type": "markdown",
   "metadata": {},
   "source": [
    "### Model 7"
   ]
  },
  {
   "cell_type": "markdown",
   "metadata": {},
   "source": [
    "Changing the activation function to see if there is a difference"
   ]
  },
  {
   "cell_type": "code",
   "execution_count": 19,
   "metadata": {},
   "outputs": [
    {
     "name": "stdout",
     "output_type": "stream",
     "text": [
      "Train on 35524 samples, validate on 8882 samples\n",
      "Epoch 1/5\n",
      "35524/35524 [==============================] - 55s 2ms/step - loss: 48.8626 - accuracy: 0.1039 - mae: 0.1196 - mse: 0.1073 - val_loss: 26.4535 - val_accuracy: 0.0688 - val_mae: 0.1238 - val_mse: 0.1192\n",
      "Epoch 2/5\n",
      "35524/35524 [==============================] - 59s 2ms/step - loss: 7.3643 - accuracy: 0.2447 - mae: 0.1032 - mse: 0.0778 - val_loss: 11.1094 - val_accuracy: 0.1575 - val_mae: 0.1138 - val_mse: 0.0899\n",
      "Epoch 3/5\n",
      "35524/35524 [==============================] - 55s 2ms/step - loss: 3.5422 - accuracy: 0.3783 - mae: 0.0882 - mse: 0.0595 - val_loss: 4.3879 - val_accuracy: 0.1672 - val_mae: 0.1089 - val_mse: 0.0893\n",
      "Epoch 4/5\n",
      "35524/35524 [==============================] - 55s 2ms/step - loss: 2.2532 - accuracy: 0.4894 - mae: 0.0768 - mse: 0.0472 - val_loss: 7.1273 - val_accuracy: 0.1425 - val_mae: 0.1137 - val_mse: 0.0985\n",
      "Epoch 5/5\n",
      "35524/35524 [==============================] - 54s 2ms/step - loss: 1.8397 - accuracy: 0.5430 - mae: 0.0711 - mse: 0.0417 - val_loss: 7.1164 - val_accuracy: 0.0992 - val_mae: 0.1196 - val_mse: 0.1139\n"
     ]
    }
   ],
   "source": [
    "model_7 = Sequential([Conv2D(50, kernel_size=(1), activation='sigmoid'),\n",
    "                      Flatten(input_shape=(50,50)),\n",
    "                      Dense(15, activation='softmax')])\n",
    "model_7.compile(optimizer='adagrad', loss='categorical_crossentropy', metrics=['accuracy', 'mae', 'mse'])\n",
    "model_7_results = model_7.fit(X_rgb_train_reshape, y_rgb_train_dummies, epochs=5, validation_data=(X_rgb_test_reshape, y_rgb_test_dummies))"
   ]
  },
  {
   "cell_type": "markdown",
   "metadata": {},
   "source": [
    "### Model 8"
   ]
  },
  {
   "cell_type": "markdown",
   "metadata": {},
   "source": [
    "Adding a dropout layer"
   ]
  },
  {
   "cell_type": "code",
   "execution_count": 53,
   "metadata": {},
   "outputs": [
    {
     "name": "stdout",
     "output_type": "stream",
     "text": [
      "Train on 35524 samples, validate on 8882 samples\n",
      "Epoch 1/5\n",
      "35524/35524 [==============================] - 223s 6ms/step - loss: 1.1175 - accuracy: 0.8383 - mae: 0.0341 - mse: 0.0158 - val_loss: 0.5462 - val_accuracy: 0.8151 - val_mae: 0.0337 - val_mse: 0.0175\n",
      "Epoch 2/5\n",
      "35524/35524 [==============================] - 221s 6ms/step - loss: 0.2223 - accuracy: 0.9330 - mae: 0.0176 - mse: 0.0068 - val_loss: 0.2631 - val_accuracy: 0.9143 - val_mae: 0.0187 - val_mse: 0.0083\n",
      "Epoch 3/5\n",
      "35524/35524 [==============================] - 222s 6ms/step - loss: 0.1661 - accuracy: 0.9519 - mae: 0.0139 - mse: 0.0050 - val_loss: 0.2034 - val_accuracy: 0.9317 - val_mae: 0.0153 - val_mse: 0.0066\n",
      "Epoch 4/5\n",
      "35524/35524 [==============================] - 222s 6ms/step - loss: 0.1341 - accuracy: 0.9624 - mae: 0.0117 - mse: 0.0040 - val_loss: 0.2525 - val_accuracy: 0.9194 - val_mae: 0.0167 - val_mse: 0.0080\n",
      "Epoch 5/5\n",
      "35524/35524 [==============================] - 221s 6ms/step - loss: 0.1133 - accuracy: 0.9705 - mae: 0.0102 - mse: 0.0034 - val_loss: 0.2408 - val_accuracy: 0.9135 - val_mae: 0.0158 - val_mse: 0.0082\n"
     ]
    }
   ],
   "source": [
    "model_8 = Sequential([Conv2D(100, kernel_size=(1), activation='relu'),\n",
    "                      Flatten(input_shape=(50,50)),\n",
    "                      Dropout(0.2),\n",
    "                      Dense(15, activation='softmax')])\n",
    "model_8.compile(optimizer='adagrad', loss='categorical_crossentropy', metrics=['accuracy', 'mae', 'mse'])\n",
    "model_8_results = model_8.fit(X_rgb_train_reshape, y_rgb_train_dummies, epochs=5, validation_data=(X_rgb_test_reshape, y_rgb_test_dummies))"
   ]
  },
  {
   "cell_type": "markdown",
   "metadata": {},
   "source": [
    "#### Model 9\n",
    "Adding bias regularizers and lowering the neurons for the convolution layer."
   ]
  },
  {
   "cell_type": "code",
   "execution_count": 21,
   "metadata": {},
   "outputs": [
    {
     "name": "stdout",
     "output_type": "stream",
     "text": [
      "Train on 35524 samples, validate on 8882 samples\n",
      "Epoch 1/5\n",
      "35524/35524 [==============================] - 42s 1ms/step - loss: 1.4408 - accuracy: 0.6338 - mae: 0.0893 - mse: 0.0380 - val_loss: 0.8766 - val_accuracy: 0.8056 - val_mae: 0.0649 - val_mse: 0.0236\n",
      "Epoch 2/5\n",
      "35524/35524 [==============================] - 42s 1ms/step - loss: 0.7054 - accuracy: 0.8329 - mae: 0.0529 - mse: 0.0187 - val_loss: 0.6421 - val_accuracy: 0.8413 - val_mae: 0.0482 - val_mse: 0.0171\n",
      "Epoch 3/5\n",
      "35524/35524 [==============================] - 42s 1ms/step - loss: 0.5562 - accuracy: 0.8602 - mae: 0.0422 - mse: 0.0147 - val_loss: 0.5949 - val_accuracy: 0.8414 - val_mae: 0.0430 - val_mse: 0.0159\n",
      "Epoch 4/5\n",
      "35524/35524 [==============================] - 43s 1ms/step - loss: 0.4785 - accuracy: 0.8760 - mae: 0.0366 - mse: 0.0127 - val_loss: 0.4797 - val_accuracy: 0.8697 - val_mae: 0.0354 - val_mse: 0.0129\n",
      "Epoch 5/5\n",
      "35524/35524 [==============================] - 42s 1ms/step - loss: 0.4268 - accuracy: 0.8865 - mae: 0.0328 - mse: 0.0115 - val_loss: 0.4405 - val_accuracy: 0.8736 - val_mae: 0.0325 - val_mse: 0.0120\n"
     ]
    }
   ],
   "source": [
    "model_9 = Sequential([Conv2D(10, kernel_size=(1), activation='relu'),\n",
    "                      Flatten(input_shape=(50,50)),\n",
    "                      Dropout(0.2),\n",
    "                      Dense(64, activation='sigmoid', bias_regularizer=regularizers.l1_l2(l1=0.02,l2=0.02)),\n",
    "                      Dense(15, activation='softmax')])\n",
    "model_9.compile(optimizer='adagrad', loss='categorical_crossentropy', metrics=['accuracy', 'mae', 'mse'])\n",
    "model_9_results = model_9.fit(X_rgb_train_reshape, y_rgb_train_dummies,epochs=5, validation_data = (X_rgb_test_reshape, y_rgb_test_dummies))"
   ]
  },
  {
   "cell_type": "markdown",
   "metadata": {},
   "source": [
    "### Model 10\n",
    "Changing the number of neurons in the convolutions layer and using an activity regularizer instead of a bias regularizer."
   ]
  },
  {
   "cell_type": "code",
   "execution_count": 56,
   "metadata": {},
   "outputs": [
    {
     "name": "stdout",
     "output_type": "stream",
     "text": [
      "Train on 35524 samples, validate on 8882 samples\n",
      "Epoch 1/5\n",
      "35524/35524 [==============================] - 186s 5ms/step - loss: 1.5752 - accuracy: 0.8509 - mae: 0.0326 - mse: 0.0148 - val_loss: 0.9189 - val_accuracy: 0.9138 - val_mae: 0.0213 - val_mse: 0.0085\n",
      "Epoch 2/5\n",
      "35524/35524 [==============================] - 185s 5ms/step - loss: 0.8479 - accuracy: 0.9362 - mae: 0.0168 - mse: 0.0064 - val_loss: 0.8814 - val_accuracy: 0.9184 - val_mae: 0.0177 - val_mse: 0.0078\n",
      "Epoch 3/5\n",
      "35524/35524 [==============================] - 184s 5ms/step - loss: 0.7962 - accuracy: 0.9536 - mae: 0.0133 - mse: 0.0048 - val_loss: 0.8558 - val_accuracy: 0.9250 - val_mae: 0.0156 - val_mse: 0.0070\n",
      "Epoch 4/5\n",
      "35524/35524 [==============================] - 183s 5ms/step - loss: 0.7671 - accuracy: 0.9653 - mae: 0.0112 - mse: 0.0038 - val_loss: 0.8415 - val_accuracy: 0.9308 - val_mae: 0.0144 - val_mse: 0.0067\n",
      "Epoch 5/5\n",
      "35524/35524 [==============================] - 186s 5ms/step - loss: 0.7481 - accuracy: 0.9718 - mae: 0.0099 - mse: 0.0032 - val_loss: 0.8228 - val_accuracy: 0.9367 - val_mae: 0.0131 - val_mse: 0.0060\n"
     ]
    }
   ],
   "source": [
    "model_10 = Sequential([Conv2D(85, kernel_size=(1), activation='relu'),\n",
    "                       Dropout(0.2),\n",
    "                       Flatten(input_shape=(50,50)),\n",
    "                       Dense(15, activation='softmax', activity_regularizer=regularizers.l1(0.02))])\n",
    "model_10.compile(optimizer='adagrad', loss='categorical_crossentropy', metrics=['accuracy', 'mae', 'mse'])\n",
    "model_10_results = model_10.fit(X_rgb_train_reshape, y_rgb_train_dummies, epochs=5, validation_data=(X_rgb_test_reshape, y_rgb_test_dummies))"
   ]
  },
  {
   "cell_type": "markdown",
   "metadata": {},
   "source": [
    "# Getting Precisions for our Models"
   ]
  },
  {
   "cell_type": "markdown",
   "metadata": {},
   "source": [
    "My goal is to get the most amount of correct predictions. This means that of all the predictions I make, I want to get the most amount possible correct. This is similar to the precision metric for classification. Thus, I will obtain the precisions for each fruit for each model. I want to pick the model the has the most correct predictions for each of the classification predictions made."
   ]
  },
  {
   "cell_type": "code",
   "execution_count": 100,
   "metadata": {},
   "outputs": [],
   "source": [
    "models = [model_1, model_2, model_3, model_4, model_5,\n",
    "          model_6, model_7, model_8, model_9, model_10]"
   ]
  },
  {
   "cell_type": "code",
   "execution_count": 102,
   "metadata": {},
   "outputs": [],
   "source": [
    "precision_df = get_precisions(models, X_gs_test_reshape, y_gs_test, X_rgb_test_reshape, y_rgb_test)"
   ]
  },
  {
   "cell_type": "code",
   "execution_count": 103,
   "metadata": {},
   "outputs": [
    {
     "data": {
      "text/html": [
       "<div>\n",
       "<style scoped>\n",
       "    .dataframe tbody tr th:only-of-type {\n",
       "        vertical-align: middle;\n",
       "    }\n",
       "\n",
       "    .dataframe tbody tr th {\n",
       "        vertical-align: top;\n",
       "    }\n",
       "\n",
       "    .dataframe thead th {\n",
       "        text-align: right;\n",
       "    }\n",
       "</style>\n",
       "<table border=\"1\" class=\"dataframe\">\n",
       "  <thead>\n",
       "    <tr style=\"text-align: right;\">\n",
       "      <th></th>\n",
       "      <th>Model_1</th>\n",
       "      <th>Model_2</th>\n",
       "      <th>Model_3</th>\n",
       "      <th>Model_4</th>\n",
       "      <th>Model_5</th>\n",
       "      <th>Model_6</th>\n",
       "      <th>Model_7</th>\n",
       "      <th>Model_8</th>\n",
       "      <th>Model_9</th>\n",
       "      <th>Model_10</th>\n",
       "    </tr>\n",
       "  </thead>\n",
       "  <tbody>\n",
       "    <tr>\n",
       "      <td>Apple</td>\n",
       "      <td>0.789683</td>\n",
       "      <td>0.491741</td>\n",
       "      <td>0.540945</td>\n",
       "      <td>0.417098</td>\n",
       "      <td>0.516704</td>\n",
       "      <td>0.965398</td>\n",
       "      <td>0.947368</td>\n",
       "      <td>0.827430</td>\n",
       "      <td>0.698585</td>\n",
       "      <td>0.914158</td>\n",
       "    </tr>\n",
       "    <tr>\n",
       "      <td>Banana</td>\n",
       "      <td>0.423697</td>\n",
       "      <td>0.818182</td>\n",
       "      <td>0.781676</td>\n",
       "      <td>0.490628</td>\n",
       "      <td>0.769231</td>\n",
       "      <td>0.938959</td>\n",
       "      <td>1.000000</td>\n",
       "      <td>0.601871</td>\n",
       "      <td>0.680879</td>\n",
       "      <td>0.850234</td>\n",
       "    </tr>\n",
       "    <tr>\n",
       "      <td>Carambola</td>\n",
       "      <td>0.867110</td>\n",
       "      <td>0.868263</td>\n",
       "      <td>0.390736</td>\n",
       "      <td>0.920863</td>\n",
       "      <td>0.844660</td>\n",
       "      <td>0.989556</td>\n",
       "      <td>1.000000</td>\n",
       "      <td>0.979003</td>\n",
       "      <td>0.946479</td>\n",
       "      <td>0.992167</td>\n",
       "    </tr>\n",
       "    <tr>\n",
       "      <td>Guava</td>\n",
       "      <td>0.879822</td>\n",
       "      <td>0.741722</td>\n",
       "      <td>0.647573</td>\n",
       "      <td>0.922039</td>\n",
       "      <td>0.800256</td>\n",
       "      <td>0.897377</td>\n",
       "      <td>0.000000</td>\n",
       "      <td>0.992679</td>\n",
       "      <td>0.848521</td>\n",
       "      <td>0.945455</td>\n",
       "    </tr>\n",
       "    <tr>\n",
       "      <td>Kiwi</td>\n",
       "      <td>0.877707</td>\n",
       "      <td>0.977654</td>\n",
       "      <td>0.927152</td>\n",
       "      <td>0.953615</td>\n",
       "      <td>0.912987</td>\n",
       "      <td>0.954442</td>\n",
       "      <td>0.980769</td>\n",
       "      <td>0.975207</td>\n",
       "      <td>0.948454</td>\n",
       "      <td>0.974359</td>\n",
       "    </tr>\n",
       "    <tr>\n",
       "      <td>Mango</td>\n",
       "      <td>0.384577</td>\n",
       "      <td>0.827451</td>\n",
       "      <td>0.880240</td>\n",
       "      <td>0.676564</td>\n",
       "      <td>0.582408</td>\n",
       "      <td>0.917234</td>\n",
       "      <td>0.000000</td>\n",
       "      <td>0.950067</td>\n",
       "      <td>0.905806</td>\n",
       "      <td>0.932934</td>\n",
       "    </tr>\n",
       "    <tr>\n",
       "      <td>Muskmelon</td>\n",
       "      <td>0.875371</td>\n",
       "      <td>0.854962</td>\n",
       "      <td>0.911043</td>\n",
       "      <td>0.916667</td>\n",
       "      <td>0.872881</td>\n",
       "      <td>0.879147</td>\n",
       "      <td>0.050285</td>\n",
       "      <td>0.905941</td>\n",
       "      <td>0.922043</td>\n",
       "      <td>0.889688</td>\n",
       "    </tr>\n",
       "    <tr>\n",
       "      <td>Orange</td>\n",
       "      <td>0.738938</td>\n",
       "      <td>0.752595</td>\n",
       "      <td>0.831169</td>\n",
       "      <td>0.858881</td>\n",
       "      <td>0.598639</td>\n",
       "      <td>0.968203</td>\n",
       "      <td>0.568047</td>\n",
       "      <td>0.954617</td>\n",
       "      <td>0.908683</td>\n",
       "      <td>0.968254</td>\n",
       "    </tr>\n",
       "    <tr>\n",
       "      <td>Peach</td>\n",
       "      <td>0.887324</td>\n",
       "      <td>0.864919</td>\n",
       "      <td>0.837624</td>\n",
       "      <td>0.958025</td>\n",
       "      <td>0.812992</td>\n",
       "      <td>0.908766</td>\n",
       "      <td>0.000000</td>\n",
       "      <td>0.973631</td>\n",
       "      <td>0.986547</td>\n",
       "      <td>0.950758</td>\n",
       "    </tr>\n",
       "    <tr>\n",
       "      <td>Pear</td>\n",
       "      <td>0.933862</td>\n",
       "      <td>0.901674</td>\n",
       "      <td>0.800745</td>\n",
       "      <td>0.976804</td>\n",
       "      <td>0.789157</td>\n",
       "      <td>0.937107</td>\n",
       "      <td>0.000000</td>\n",
       "      <td>0.987226</td>\n",
       "      <td>0.883838</td>\n",
       "      <td>0.850767</td>\n",
       "    </tr>\n",
       "    <tr>\n",
       "      <td>Persimmon</td>\n",
       "      <td>0.904192</td>\n",
       "      <td>0.846966</td>\n",
       "      <td>0.804569</td>\n",
       "      <td>0.896254</td>\n",
       "      <td>0.796954</td>\n",
       "      <td>0.992063</td>\n",
       "      <td>0.000000</td>\n",
       "      <td>1.000000</td>\n",
       "      <td>0.959893</td>\n",
       "      <td>0.981959</td>\n",
       "    </tr>\n",
       "    <tr>\n",
       "      <td>Pitaya</td>\n",
       "      <td>0.872881</td>\n",
       "      <td>0.969697</td>\n",
       "      <td>0.939467</td>\n",
       "      <td>0.912473</td>\n",
       "      <td>0.924312</td>\n",
       "      <td>0.963283</td>\n",
       "      <td>0.920000</td>\n",
       "      <td>0.984055</td>\n",
       "      <td>0.954649</td>\n",
       "      <td>0.980435</td>\n",
       "    </tr>\n",
       "    <tr>\n",
       "      <td>Plum</td>\n",
       "      <td>0.969907</td>\n",
       "      <td>0.993363</td>\n",
       "      <td>0.991031</td>\n",
       "      <td>0.993182</td>\n",
       "      <td>0.985714</td>\n",
       "      <td>0.993890</td>\n",
       "      <td>0.962264</td>\n",
       "      <td>0.995927</td>\n",
       "      <td>0.981928</td>\n",
       "      <td>0.993902</td>\n",
       "    </tr>\n",
       "    <tr>\n",
       "      <td>Pomegranate</td>\n",
       "      <td>0.854637</td>\n",
       "      <td>0.737903</td>\n",
       "      <td>0.897906</td>\n",
       "      <td>0.881579</td>\n",
       "      <td>0.917127</td>\n",
       "      <td>0.912409</td>\n",
       "      <td>1.000000</td>\n",
       "      <td>0.958217</td>\n",
       "      <td>0.922222</td>\n",
       "      <td>0.980282</td>\n",
       "    </tr>\n",
       "    <tr>\n",
       "      <td>Tomato</td>\n",
       "      <td>0.722063</td>\n",
       "      <td>0.831202</td>\n",
       "      <td>0.855457</td>\n",
       "      <td>0.922794</td>\n",
       "      <td>0.832278</td>\n",
       "      <td>0.579946</td>\n",
       "      <td>0.901235</td>\n",
       "      <td>0.969194</td>\n",
       "      <td>0.957816</td>\n",
       "      <td>0.916667</td>\n",
       "    </tr>\n",
       "  </tbody>\n",
       "</table>\n",
       "</div>"
      ],
      "text/plain": [
       "              Model_1   Model_2   Model_3   Model_4   Model_5   Model_6  \\\n",
       "Apple        0.789683  0.491741  0.540945  0.417098  0.516704  0.965398   \n",
       "Banana       0.423697  0.818182  0.781676  0.490628  0.769231  0.938959   \n",
       "Carambola    0.867110  0.868263  0.390736  0.920863  0.844660  0.989556   \n",
       "Guava        0.879822  0.741722  0.647573  0.922039  0.800256  0.897377   \n",
       "Kiwi         0.877707  0.977654  0.927152  0.953615  0.912987  0.954442   \n",
       "Mango        0.384577  0.827451  0.880240  0.676564  0.582408  0.917234   \n",
       "Muskmelon    0.875371  0.854962  0.911043  0.916667  0.872881  0.879147   \n",
       "Orange       0.738938  0.752595  0.831169  0.858881  0.598639  0.968203   \n",
       "Peach        0.887324  0.864919  0.837624  0.958025  0.812992  0.908766   \n",
       "Pear         0.933862  0.901674  0.800745  0.976804  0.789157  0.937107   \n",
       "Persimmon    0.904192  0.846966  0.804569  0.896254  0.796954  0.992063   \n",
       "Pitaya       0.872881  0.969697  0.939467  0.912473  0.924312  0.963283   \n",
       "Plum         0.969907  0.993363  0.991031  0.993182  0.985714  0.993890   \n",
       "Pomegranate  0.854637  0.737903  0.897906  0.881579  0.917127  0.912409   \n",
       "Tomato       0.722063  0.831202  0.855457  0.922794  0.832278  0.579946   \n",
       "\n",
       "              Model_7   Model_8   Model_9  Model_10  \n",
       "Apple        0.947368  0.827430  0.698585  0.914158  \n",
       "Banana       1.000000  0.601871  0.680879  0.850234  \n",
       "Carambola    1.000000  0.979003  0.946479  0.992167  \n",
       "Guava        0.000000  0.992679  0.848521  0.945455  \n",
       "Kiwi         0.980769  0.975207  0.948454  0.974359  \n",
       "Mango        0.000000  0.950067  0.905806  0.932934  \n",
       "Muskmelon    0.050285  0.905941  0.922043  0.889688  \n",
       "Orange       0.568047  0.954617  0.908683  0.968254  \n",
       "Peach        0.000000  0.973631  0.986547  0.950758  \n",
       "Pear         0.000000  0.987226  0.883838  0.850767  \n",
       "Persimmon    0.000000  1.000000  0.959893  0.981959  \n",
       "Pitaya       0.920000  0.984055  0.954649  0.980435  \n",
       "Plum         0.962264  0.995927  0.981928  0.993902  \n",
       "Pomegranate  1.000000  0.958217  0.922222  0.980282  \n",
       "Tomato       0.901235  0.969194  0.957816  0.916667  "
      ]
     },
     "execution_count": 103,
     "metadata": {},
     "output_type": "execute_result"
    }
   ],
   "source": [
    "precision_df"
   ]
  },
  {
   "cell_type": "code",
   "execution_count": 104,
   "metadata": {},
   "outputs": [
    {
     "data": {
      "text/html": [
       "<div>\n",
       "<style scoped>\n",
       "    .dataframe tbody tr th:only-of-type {\n",
       "        vertical-align: middle;\n",
       "    }\n",
       "\n",
       "    .dataframe tbody tr th {\n",
       "        vertical-align: top;\n",
       "    }\n",
       "\n",
       "    .dataframe thead th {\n",
       "        text-align: right;\n",
       "    }\n",
       "</style>\n",
       "<table border=\"1\" class=\"dataframe\">\n",
       "  <thead>\n",
       "    <tr style=\"text-align: right;\">\n",
       "      <th></th>\n",
       "      <th>Model_6</th>\n",
       "      <th>Model_10</th>\n",
       "    </tr>\n",
       "  </thead>\n",
       "  <tbody>\n",
       "    <tr>\n",
       "      <td>Apple</td>\n",
       "      <td>0.965398</td>\n",
       "      <td>0.914158</td>\n",
       "    </tr>\n",
       "    <tr>\n",
       "      <td>Banana</td>\n",
       "      <td>0.938959</td>\n",
       "      <td>0.850234</td>\n",
       "    </tr>\n",
       "    <tr>\n",
       "      <td>Carambola</td>\n",
       "      <td>0.989556</td>\n",
       "      <td>0.992167</td>\n",
       "    </tr>\n",
       "    <tr>\n",
       "      <td>Guava</td>\n",
       "      <td>0.897377</td>\n",
       "      <td>0.945455</td>\n",
       "    </tr>\n",
       "    <tr>\n",
       "      <td>Kiwi</td>\n",
       "      <td>0.954442</td>\n",
       "      <td>0.974359</td>\n",
       "    </tr>\n",
       "    <tr>\n",
       "      <td>Mango</td>\n",
       "      <td>0.917234</td>\n",
       "      <td>0.932934</td>\n",
       "    </tr>\n",
       "    <tr>\n",
       "      <td>Muskmelon</td>\n",
       "      <td>0.879147</td>\n",
       "      <td>0.889688</td>\n",
       "    </tr>\n",
       "    <tr>\n",
       "      <td>Orange</td>\n",
       "      <td>0.968203</td>\n",
       "      <td>0.968254</td>\n",
       "    </tr>\n",
       "    <tr>\n",
       "      <td>Peach</td>\n",
       "      <td>0.908766</td>\n",
       "      <td>0.950758</td>\n",
       "    </tr>\n",
       "    <tr>\n",
       "      <td>Pear</td>\n",
       "      <td>0.937107</td>\n",
       "      <td>0.850767</td>\n",
       "    </tr>\n",
       "    <tr>\n",
       "      <td>Persimmon</td>\n",
       "      <td>0.992063</td>\n",
       "      <td>0.981959</td>\n",
       "    </tr>\n",
       "    <tr>\n",
       "      <td>Pitaya</td>\n",
       "      <td>0.963283</td>\n",
       "      <td>0.980435</td>\n",
       "    </tr>\n",
       "    <tr>\n",
       "      <td>Plum</td>\n",
       "      <td>0.993890</td>\n",
       "      <td>0.993902</td>\n",
       "    </tr>\n",
       "    <tr>\n",
       "      <td>Pomegranate</td>\n",
       "      <td>0.912409</td>\n",
       "      <td>0.980282</td>\n",
       "    </tr>\n",
       "    <tr>\n",
       "      <td>Tomato</td>\n",
       "      <td>0.579946</td>\n",
       "      <td>0.916667</td>\n",
       "    </tr>\n",
       "  </tbody>\n",
       "</table>\n",
       "</div>"
      ],
      "text/plain": [
       "              Model_6  Model_10\n",
       "Apple        0.965398  0.914158\n",
       "Banana       0.938959  0.850234\n",
       "Carambola    0.989556  0.992167\n",
       "Guava        0.897377  0.945455\n",
       "Kiwi         0.954442  0.974359\n",
       "Mango        0.917234  0.932934\n",
       "Muskmelon    0.879147  0.889688\n",
       "Orange       0.968203  0.968254\n",
       "Peach        0.908766  0.950758\n",
       "Pear         0.937107  0.850767\n",
       "Persimmon    0.992063  0.981959\n",
       "Pitaya       0.963283  0.980435\n",
       "Plum         0.993890  0.993902\n",
       "Pomegranate  0.912409  0.980282\n",
       "Tomato       0.579946  0.916667"
      ]
     },
     "execution_count": 104,
     "metadata": {},
     "output_type": "execute_result"
    }
   ],
   "source": [
    "precision_df[['Model_6', 'Model_10']]"
   ]
  },
  {
   "cell_type": "markdown",
   "metadata": {},
   "source": [
    "### Closer Look"
   ]
  },
  {
   "cell_type": "code",
   "execution_count": 106,
   "metadata": {},
   "outputs": [],
   "source": [
    "model_6_predictions = model_6.predict_classes(X_rgb_test_reshape)\n",
    "model_10_predictions = model_10.predict_classes(X_rgb_test_reshape)"
   ]
  },
  {
   "cell_type": "code",
   "execution_count": 107,
   "metadata": {},
   "outputs": [
    {
     "name": "stdout",
     "output_type": "stream",
     "text": [
      "Model 6 0.9254303719434896\n",
      "Model 10: 0.938281675911824\n"
     ]
    }
   ],
   "source": [
    "model_6_precision = precision_score(y_rgb_test, model_6_predictions, average='weighted')\n",
    "model_10_precision = precision_score(y_rgb_test, model_10_predictions, average='weighted')\n",
    "print('Model 6', model_6_precision)\n",
    "print('Model 10:', model_10_precision)"
   ]
  },
  {
   "cell_type": "code",
   "execution_count": 108,
   "metadata": {},
   "outputs": [
    {
     "name": "stdout",
     "output_type": "stream",
     "text": [
      "Model 6: 0.9108308939428057\n",
      "Model 10: 0.9367259626210312\n"
     ]
    }
   ],
   "source": [
    "model_6_recall = recall_score(y_rgb_test, model_6_predictions, average='weighted')\n",
    "model_10_recall = recall_score(y_rgb_test, model_10_predictions, average='weighted')\n",
    "print('Model 6:', model_6_recall)\n",
    "print('Model 10:', model_10_recall)"
   ]
  },
  {
   "cell_type": "code",
   "execution_count": 109,
   "metadata": {},
   "outputs": [
    {
     "name": "stdout",
     "output_type": "stream",
     "text": [
      "Model 6: 0.9088377725150089\n",
      "Model 10: 0.9365466350483875\n"
     ]
    }
   ],
   "source": [
    "model_6_f1 = f1_score(y_rgb_test, model_6_predictions, average='weighted')\n",
    "model_10_f1 = f1_score(y_rgb_test, model_10_predictions, average='weighted')\n",
    "print('Model 6:', model_6_f1)\n",
    "print('Model 10:', model_10_f1)"
   ]
  },
  {
   "cell_type": "markdown",
   "metadata": {},
   "source": [
    "## Conclusion"
   ]
  },
  {
   "cell_type": "markdown",
   "metadata": {},
   "source": [
    "Model 6 and Model 10 are our top 2 models based on values in validation accuracy, mse, and mae. However, I am choosing Model 10 as my main model since it has a higher precision, the main goal of my neural network. They each have very similar scores, with Model 10 doing a little better. I thought it would be interesting to take a closer look, regardless. Although Model 6 doesn't do as well as Model 10, it is providing close scores to model 10 while being a much simpler model. If the scores happened to be a little closer, I would potentially consider Model 6 to be my main model. In that situation it would have provided nearly the same information as Model 10 with less layers and without a regularizer, which could have potentially saved on time and cost."
   ]
  },
  {
   "cell_type": "markdown",
   "metadata": {},
   "source": [
    "## Packaging Predictions for EDA"
   ]
  },
  {
   "cell_type": "code",
   "execution_count": 120,
   "metadata": {},
   "outputs": [],
   "source": [
    "predictions_df = pd.DataFrame(list(zip(y_rgb_test, model_10_predictions)))\n",
    "predictions_df.columns = ['Actual', 'Predicted']"
   ]
  },
  {
   "cell_type": "code",
   "execution_count": 121,
   "metadata": {},
   "outputs": [],
   "source": [
    "predictions_pickle_out = open('model_predictions.pickle', 'wb')\n",
    "pickle.dump(predictions_df, predictions_pickle_out)\n",
    "predictions_pickle_out.close()"
   ]
  }
 ],
 "metadata": {
  "kernelspec": {
   "display_name": "learn-env",
   "language": "python",
   "name": "learn-env"
  },
  "language_info": {
   "codemirror_mode": {
    "name": "ipython",
    "version": 3
   },
   "file_extension": ".py",
   "mimetype": "text/x-python",
   "name": "python",
   "nbconvert_exporter": "python",
   "pygments_lexer": "ipython3",
   "version": "3.6.9"
  }
 },
 "nbformat": 4,
 "nbformat_minor": 4
}
